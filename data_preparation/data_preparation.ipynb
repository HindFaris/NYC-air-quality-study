{
 "cells": [
  {
   "cell_type": "markdown",
   "source": [
    "# Data preparation"
   ],
   "metadata": {
    "collapsed": false
   }
  },
  {
   "cell_type": "markdown",
   "source": [
    "This Jupyter notebook aims to prepare datasets from different sources, each with its own composition and granularity. We will unify the localization granularity of all datasets using UHF42 (there are 42 in New York), representing the most detailed geographic reference available in our data. Subsequently, we will merge all datasets based on the UHF42 code.\n",
    "\n",
    "Initially, we will focus on preparing the dataset containing air pollutant concentrations and their related health outcomes. To discern disparities between UHF42 neighborhoods, we will add data on various external factors that are more likely to contribute to outdoor pollutants."
   ],
   "metadata": {
    "collapsed": false
   }
  },
  {
   "cell_type": "code",
   "outputs": [],
   "source": [
    "import pandas as pd\n",
    "from IPython.display import clear_output\n",
    "import geopandas as gpd\n",
    "from shapely.wkt import loads\n",
    "import os"
   ],
   "metadata": {
    "ExecuteTime": {
     "end_time": "2024-02-18T11:08:44.852734300Z",
     "start_time": "2024-02-18T11:08:44.661962200Z"
    }
   },
   "execution_count": 1
  },
  {
   "cell_type": "code",
   "outputs": [],
   "source": [
    "def map_zipcode_to_uhf(zipcode : int):\n",
    "    \"\"\"\n",
    "    Map a zipcode into UHF42 code\n",
    "    :param zipcode: the zipcode to translate into a UHF42 code\n",
    "    \"\"\"\n",
    "    uhf_mapping = {\n",
    "        101: [10463, 10471],\n",
    "        102: [10464, 10466, 10469, 10470, 10475],\n",
    "        103: [10458, 10467, 10468],\n",
    "        104: [10461, 10462, 10465, 10472, 10473],\n",
    "        105: [10453, 10457, 10460],\n",
    "        106: [10451, 10452, 10456],\n",
    "        107: [10454, 10455, 10459, 10474],\n",
    "        201: [11211, 11222],\n",
    "        202: [11201, 11205, 11215, 11217, 11231],\n",
    "        203: [11212, 11213, 11216, 11233, 11238],\n",
    "        204: [11207, 11208],\n",
    "        205: [11220, 11232],\n",
    "        206: [11204, 11218, 11219, 11230],\n",
    "        207: [11203, 11210, 11225, 11226],\n",
    "        208: [11234, 11236, 11239],\n",
    "        209: [11209, 11214, 11228],\n",
    "        210: [11223, 11224, 11229, 11235],\n",
    "        211: [11206, 11221, 11237],\n",
    "        301: [10031, 10032, 10033, 10034, 10040],\n",
    "        302: [10026, 10027, 10030, 10037, 10039],\n",
    "        303: [10029, 10035],\n",
    "        304: [10023, 10024, 10025],\n",
    "        305: [10021, 10028, 10044, 10128],\n",
    "        306: [10001, 10011, 10018, 10019, 10020, 10036],\n",
    "        307: [10010, 10016, 10017, 10022],\n",
    "        308: [10012, 10013, 10014],\n",
    "        309: [10002, 10003, 10009],\n",
    "        310: [10004, 10005, 10006, 10007, 10038, 10280],\n",
    "        401: [11101, 11102, 11103, 11104, 11105, 11106],\n",
    "        402: [11368, 11369, 11370, 11372, 11373, 11377, 11378],\n",
    "        403: [11354, 11355, 11356, 11357, 11358, 11359, 11360],\n",
    "        404: [11361, 11362, 11363, 11364],\n",
    "        405: [11374, 11375, 11379, 11385],\n",
    "        406: [11365, 11366, 11367],\n",
    "        407: [11414, 11415, 11416, 11417, 11418, 11419, 11420, 11421],\n",
    "        408: [11412, 11423, 11430, 11432, 11433, 11434, 11435, 11436, 11001],\n",
    "        409: [11004, 11005, 11411, 11413, 11422, 11426, 11427, 11428, 11429],\n",
    "        410: [11691, 11692, 11693, 11694, 11695, 11697],\n",
    "        501: [10302, 10303, 10310],\n",
    "        502: [10301, 10304, 10305],\n",
    "        503: [10314],\n",
    "        504: [10306, 10307, 10308, 10309, 10312],\n",
    "    }\n",
    "   \n",
    "    for uhf, zipcodes in uhf_mapping.items(): \n",
    "        if zipcode in zipcodes:\n",
    "            return uhf\n",
    "    return None"
   ],
   "metadata": {
    "collapsed": false,
    "ExecuteTime": {
     "end_time": "2024-02-18T11:08:44.868363900Z",
     "start_time": "2024-02-18T11:08:44.864353500Z"
    }
   },
   "execution_count": 2
  },
  {
   "cell_type": "markdown",
   "source": [
    "## 1. Air quality and related Health outcomes data"
   ],
   "metadata": {
    "collapsed": false
   }
  },
  {
   "cell_type": "markdown",
   "source": [
    "The primary dataset to prepare is sourced from [NYC Government Open Data](https://data.cityofnewyork.us/Environment/Air-Quality/c3uy-2p5r).\n",
    "It contains various variables, including mean concentrations of fine particulates (PM2.5, O3 and NO2) and health burdens associated with each particulate matter. \n",
    "The census time frame spanned from 2007 to 2020. \n",
    "The granularity of locations varies : boroughs, Community Districts, UH34, and more precisely, UHF42.\n",
    "\n",
    "We will keep a granularity of UHF42."
   ],
   "metadata": {
    "collapsed": false
   }
  },
  {
   "cell_type": "code",
   "outputs": [
    {
     "data": {
      "text/plain": "       Unique ID  Indicator ID                                         Name  \\\n0         172653           375                       Nitrogen dioxide (NO2)   \n1         172585           375                       Nitrogen dioxide (NO2)   \n2         336637           375                       Nitrogen dioxide (NO2)   \n3         336622           375                       Nitrogen dioxide (NO2)   \n4         172582           375                       Nitrogen dioxide (NO2)   \n...          ...           ...                                          ...   \n16213     130750           647            Outdoor Air Toxics - Formaldehyde   \n16214     130780           647            Outdoor Air Toxics - Formaldehyde   \n16215     131020           652  Cardiac and respiratory deaths due to Ozone   \n16216     131026           652  Cardiac and respiratory deaths due to Ozone   \n16217     325247           643                Annual vehicle miles traveled   \n\n                            Measure Measure Info Geo Type Name  Geo Join ID  \\\n0                              Mean          ppb         UHF34          203   \n1                              Mean          ppb         UHF34          203   \n2                              Mean          ppb         UHF34          204   \n3                              Mean          ppb         UHF34          103   \n4                              Mean          ppb         UHF34          104   \n...                             ...          ...           ...          ...   \n16213  Annual average concentration        µg/m3         UHF42          211   \n16214  Annual average concentration        µg/m3       Borough            5   \n16215         Estimated annual rate  per 100,000         UHF42          504   \n16216         Estimated annual rate  per 100,000       Borough            5   \n16217                 million miles      per km2            CD          107   \n\n                           Geo Place Name          Time Period  Start_Date  \\\n0      Bedford Stuyvesant - Crown Heights  Annual Average 2011  12/01/2010   \n1      Bedford Stuyvesant - Crown Heights  Annual Average 2009  12/01/2008   \n2                           East New York  Annual Average 2015  01/01/2015   \n3                      Fordham - Bronx Pk  Annual Average 2015  01/01/2015   \n4                    Pelham - Throgs Neck  Annual Average 2009  12/01/2008   \n...                                   ...                  ...         ...   \n16213             Williamsburg - Bushwick                 2005  01/01/2005   \n16214                       Staten Island                 2005  01/01/2005   \n16215           South Beach - Tottenville            2005-2007  01/01/2005   \n16216                       Staten Island            2005-2007  01/01/2005   \n16217               Upper West Side (CD7)                 2016  01/01/2016   \n\n       Data Value  Message  \n0           25.30      NaN  \n1           26.93      NaN  \n2           19.09      NaN  \n3           19.76      NaN  \n4           22.83      NaN  \n...           ...      ...  \n16213        3.10      NaN  \n16214        2.30      NaN  \n16215        7.50      NaN  \n16216        7.80      NaN  \n16217       50.00      NaN  \n\n[16218 rows x 12 columns]",
      "text/html": "<div>\n<style scoped>\n    .dataframe tbody tr th:only-of-type {\n        vertical-align: middle;\n    }\n\n    .dataframe tbody tr th {\n        vertical-align: top;\n    }\n\n    .dataframe thead th {\n        text-align: right;\n    }\n</style>\n<table border=\"1\" class=\"dataframe\">\n  <thead>\n    <tr style=\"text-align: right;\">\n      <th></th>\n      <th>Unique ID</th>\n      <th>Indicator ID</th>\n      <th>Name</th>\n      <th>Measure</th>\n      <th>Measure Info</th>\n      <th>Geo Type Name</th>\n      <th>Geo Join ID</th>\n      <th>Geo Place Name</th>\n      <th>Time Period</th>\n      <th>Start_Date</th>\n      <th>Data Value</th>\n      <th>Message</th>\n    </tr>\n  </thead>\n  <tbody>\n    <tr>\n      <th>0</th>\n      <td>172653</td>\n      <td>375</td>\n      <td>Nitrogen dioxide (NO2)</td>\n      <td>Mean</td>\n      <td>ppb</td>\n      <td>UHF34</td>\n      <td>203</td>\n      <td>Bedford Stuyvesant - Crown Heights</td>\n      <td>Annual Average 2011</td>\n      <td>12/01/2010</td>\n      <td>25.30</td>\n      <td>NaN</td>\n    </tr>\n    <tr>\n      <th>1</th>\n      <td>172585</td>\n      <td>375</td>\n      <td>Nitrogen dioxide (NO2)</td>\n      <td>Mean</td>\n      <td>ppb</td>\n      <td>UHF34</td>\n      <td>203</td>\n      <td>Bedford Stuyvesant - Crown Heights</td>\n      <td>Annual Average 2009</td>\n      <td>12/01/2008</td>\n      <td>26.93</td>\n      <td>NaN</td>\n    </tr>\n    <tr>\n      <th>2</th>\n      <td>336637</td>\n      <td>375</td>\n      <td>Nitrogen dioxide (NO2)</td>\n      <td>Mean</td>\n      <td>ppb</td>\n      <td>UHF34</td>\n      <td>204</td>\n      <td>East New York</td>\n      <td>Annual Average 2015</td>\n      <td>01/01/2015</td>\n      <td>19.09</td>\n      <td>NaN</td>\n    </tr>\n    <tr>\n      <th>3</th>\n      <td>336622</td>\n      <td>375</td>\n      <td>Nitrogen dioxide (NO2)</td>\n      <td>Mean</td>\n      <td>ppb</td>\n      <td>UHF34</td>\n      <td>103</td>\n      <td>Fordham - Bronx Pk</td>\n      <td>Annual Average 2015</td>\n      <td>01/01/2015</td>\n      <td>19.76</td>\n      <td>NaN</td>\n    </tr>\n    <tr>\n      <th>4</th>\n      <td>172582</td>\n      <td>375</td>\n      <td>Nitrogen dioxide (NO2)</td>\n      <td>Mean</td>\n      <td>ppb</td>\n      <td>UHF34</td>\n      <td>104</td>\n      <td>Pelham - Throgs Neck</td>\n      <td>Annual Average 2009</td>\n      <td>12/01/2008</td>\n      <td>22.83</td>\n      <td>NaN</td>\n    </tr>\n    <tr>\n      <th>...</th>\n      <td>...</td>\n      <td>...</td>\n      <td>...</td>\n      <td>...</td>\n      <td>...</td>\n      <td>...</td>\n      <td>...</td>\n      <td>...</td>\n      <td>...</td>\n      <td>...</td>\n      <td>...</td>\n      <td>...</td>\n    </tr>\n    <tr>\n      <th>16213</th>\n      <td>130750</td>\n      <td>647</td>\n      <td>Outdoor Air Toxics - Formaldehyde</td>\n      <td>Annual average concentration</td>\n      <td>µg/m3</td>\n      <td>UHF42</td>\n      <td>211</td>\n      <td>Williamsburg - Bushwick</td>\n      <td>2005</td>\n      <td>01/01/2005</td>\n      <td>3.10</td>\n      <td>NaN</td>\n    </tr>\n    <tr>\n      <th>16214</th>\n      <td>130780</td>\n      <td>647</td>\n      <td>Outdoor Air Toxics - Formaldehyde</td>\n      <td>Annual average concentration</td>\n      <td>µg/m3</td>\n      <td>Borough</td>\n      <td>5</td>\n      <td>Staten Island</td>\n      <td>2005</td>\n      <td>01/01/2005</td>\n      <td>2.30</td>\n      <td>NaN</td>\n    </tr>\n    <tr>\n      <th>16215</th>\n      <td>131020</td>\n      <td>652</td>\n      <td>Cardiac and respiratory deaths due to Ozone</td>\n      <td>Estimated annual rate</td>\n      <td>per 100,000</td>\n      <td>UHF42</td>\n      <td>504</td>\n      <td>South Beach - Tottenville</td>\n      <td>2005-2007</td>\n      <td>01/01/2005</td>\n      <td>7.50</td>\n      <td>NaN</td>\n    </tr>\n    <tr>\n      <th>16216</th>\n      <td>131026</td>\n      <td>652</td>\n      <td>Cardiac and respiratory deaths due to Ozone</td>\n      <td>Estimated annual rate</td>\n      <td>per 100,000</td>\n      <td>Borough</td>\n      <td>5</td>\n      <td>Staten Island</td>\n      <td>2005-2007</td>\n      <td>01/01/2005</td>\n      <td>7.80</td>\n      <td>NaN</td>\n    </tr>\n    <tr>\n      <th>16217</th>\n      <td>325247</td>\n      <td>643</td>\n      <td>Annual vehicle miles traveled</td>\n      <td>million miles</td>\n      <td>per km2</td>\n      <td>CD</td>\n      <td>107</td>\n      <td>Upper West Side (CD7)</td>\n      <td>2016</td>\n      <td>01/01/2016</td>\n      <td>50.00</td>\n      <td>NaN</td>\n    </tr>\n  </tbody>\n</table>\n<p>16218 rows × 12 columns</p>\n</div>"
     },
     "execution_count": 3,
     "metadata": {},
     "output_type": "execute_result"
    }
   ],
   "source": [
    "path_file = os.path.join('data', 'Air_Quality_20240210.csv')\n",
    "air_quality_df = pd.read_csv(path_file)\n",
    "air_quality_df"
   ],
   "metadata": {
    "ExecuteTime": {
     "end_time": "2024-02-18T11:08:44.943227100Z",
     "start_time": "2024-02-18T11:08:44.872016700Z"
    }
   },
   "execution_count": 3
  },
  {
   "cell_type": "code",
   "outputs": [],
   "source": [
    "# Create a new DataFrame containing 'UHF42' and the corresponding 'Borough'\n",
    "# It will be used to construct a final dataset from the original dataset 'air_quality_df'\n",
    "uhf42_df = pd.DataFrame()\n",
    "uhf42_df[\"UHF42\"] = air_quality_df.loc[(air_quality_df[\"Geo Type Name\"] == \"UHF42\")][\"Geo Join ID\"].unique()\n",
    "uhf42_df[\"Borough\"] = \"Staten Island\"\n",
    "uhf42_df[\"Borough\"].loc[uhf42_df[\"UHF42\"]<=410] = \"Queens\"\n",
    "uhf42_df[\"Borough\"].loc[uhf42_df[\"UHF42\"]<=310] = \"Manhattan\"\n",
    "uhf42_df[\"Borough\"].loc[uhf42_df[\"UHF42\"]<=211] = \"Brooklyn\"\n",
    "uhf42_df[\"Borough\"].loc[uhf42_df[\"UHF42\"]<=117] = \"Bronx\"\n",
    "clear_output()"
   ],
   "metadata": {
    "collapsed": false
   },
   "execution_count": 4
  },
  {
   "cell_type": "code",
   "outputs": [],
   "source": [
    "def add_feature(original_dataframe: pd.DataFrame,\n",
    "                uhf42_df: pd.DataFrame, \n",
    "                feature_name: str, \n",
    "                new_feature_name:str\n",
    "                )->pd.DataFrame:\n",
    "    \"\"\"\n",
    "    This function takes the name of a variable and returns a dataframe containing the pivot table of that variable. The data is given by UHF42.\n",
    "    \n",
    "    :param original_dataframe: The dataframe containing the original Air Quality data.\n",
    "    :param uhf42_df: The dataframe containing UHF42 and corresponding Borough name.\n",
    "    :param feature_name: The name of the variable for which to create a pivot table.\n",
    "    :param new_feature_name: The new name to use for the variable.\n",
    "    \"\"\"\n",
    "\n",
    "    # Gets a small dataframe for the given feature_name by UHF42\n",
    "    df_slice= original_dataframe.loc[(original_dataframe[\"Geo Type Name\"] == \"UHF42\") & (original_dataframe[\"Name\"] == feature_name)]\n",
    "    \n",
    "    # If the column Measure has one unique value (mean, Number per km2...)\n",
    "    if df_slice.Measure.nunique() == 1:\n",
    "        df_slice= df_slice[[\"Geo Join ID\", \"Data Value\", \"Time Period\"]]\n",
    "        \n",
    "        # Create a pivot table containing :\n",
    "        # Column for number of UHF42\n",
    "        # Columns for all available time periods\n",
    "        # The data values are the value of the given feature_name \n",
    "        df_slice= pd.pivot_table(df_slice, values=\"Data Value\", index=\"Geo Join ID\", columns=\"Time Period\").reset_index()\n",
    "        \n",
    "        # Renaming the columns as follows : new_feature_name | time_period\n",
    "        rename_dict= {current_feature_name:new_feature_name for current_feature_name, new_feature_name in zip(df_slice.columns[1:], [f\"{new_feature_name} | {current_feature_name}\" for current_feature_name in df_slice.columns[1:]])}\n",
    "        df_slice= df_slice.rename(columns=rename_dict)  \n",
    "        \n",
    "        # Merging the pivot table with the dataframe containing UHF42 & borough\n",
    "        final_df= pd.merge(uhf42_df, df_slice, how=\"left\", left_on=\"UHF42\", right_on=\"Geo Join ID\")\n",
    "        final_df.drop(columns=\"Geo Join ID\", inplace=True)\n",
    "        return final_df\n",
    "    \n",
    "    # If the column Measure has more than one unique value (mean, Number per km2...)\n",
    "    else:\n",
    "        # Retrieving the first measure\n",
    "        df_slice_1= df_slice.loc[df_slice[\"Measure\"] == df_slice.Measure.unique()[0]]\n",
    "        df_slice_1= df_slice_1[[\"Geo Join ID\", \"Data Value\", \"Time Period\"]]\n",
    "        df_slice_1= pd.pivot_table(df_slice_1, values=\"Data Value\", index=\"Geo Join ID\", columns=\"Time Period\").reset_index()\n",
    "        rename_dict= {current_feature_name:new_feature_name for current_feature_name, new_feature_name in zip(df_slice_1.columns[1:], [f\"{new_feature_name} | {df_slice.Measure.unique()[0]} | {current_feature_name}\" for current_feature_name in df_slice_1.columns[1:]])}\n",
    "        df_slice_1= df_slice_1.rename(columns=rename_dict)\n",
    "\n",
    "        # Retrieving the second measure\n",
    "        df_slice_2= df_slice.loc[df_slice[\"Measure\"] == df_slice.Measure.unique()[1]]\n",
    "        df_slice_2= df_slice_2[[\"Geo Join ID\", \"Data Value\", \"Time Period\"]]\n",
    "        df_slice_2= pd.pivot_table(df_slice_2, values=\"Data Value\", index=\"Geo Join ID\", columns=\"Time Period\").reset_index()\n",
    "        rename_dict= {current_feature_name:new_feature_name for current_feature_name, new_feature_name in zip(df_slice_2.columns[1:], [f\"{new_feature_name} | {df_slice.Measure.unique()[1]} | {current_feature_name}\" for current_feature_name in df_slice_2.columns[1:]])}\n",
    "        df_slice_2= df_slice_2.rename(columns=rename_dict)\n",
    "\n",
    "        #merging the 1st and 2nd measure with the uhf42 dataframe\n",
    "        final_df= pd.merge(uhf42_df, df_slice_1, how=\"left\", left_on=\"UHF42\", right_on=\"Geo Join ID\")\n",
    "        final_df.drop(columns=\"Geo Join ID\", inplace=True)\n",
    "        final_df= pd.merge(final_df, df_slice_2, how=\"left\", left_on=\"UHF42\", right_on=\"Geo Join ID\")\n",
    "        final_df.drop(columns=\"Geo Join ID\", inplace=True)  \n",
    "    return final_df"
   ],
   "metadata": {
    "collapsed": false,
    "ExecuteTime": {
     "end_time": "2024-02-18T11:08:44.997844800Z",
     "start_time": "2024-02-18T11:08:44.969402100Z"
    }
   },
   "execution_count": 5
  },
  {
   "cell_type": "code",
   "outputs": [],
   "source": [
    "# OAPs Concentration\n",
    "\n",
    "oap_df = add_feature(air_quality_df, uhf42_df, 'Nitrogen dioxide (NO2)', 'NO2')\n",
    "oap_df = add_feature(air_quality_df, oap_df, 'Fine particles (PM 2.5)', 'PM2.5')\n",
    "oap_df = add_feature(air_quality_df, oap_df, 'Ozone (O3)', 'O3')"
   ],
   "metadata": {
    "collapsed": false,
    "ExecuteTime": {
     "end_time": "2024-02-18T11:08:45.133832100Z",
     "start_time": "2024-02-18T11:08:44.976358900Z"
    }
   },
   "execution_count": 6
  },
  {
   "cell_type": "code",
   "outputs": [],
   "source": [
    "# PM2.5 health Outcomes\n",
    "\n",
    "pm2_5_health = add_feature(air_quality_df, oap_df, 'Asthma emergency department visits due to PM2.5', 'PM2.5_AEDV')\n",
    "pm2_5_health = add_feature(air_quality_df, pm2_5_health, 'Cardiovascular hospitalizations due to PM2.5 (age 40+)', 'PM2.5_CH')\n",
    "pm2_5_health = add_feature(air_quality_df, pm2_5_health, 'Deaths due to PM2.5', 'PM2.5_D')\n",
    "pm2_5_health = add_feature(air_quality_df, pm2_5_health, 'Respiratory hospitalizations due to PM2.5 (age 20+)', 'PM2.5_RH')"
   ],
   "metadata": {
    "collapsed": false,
    "ExecuteTime": {
     "end_time": "2024-02-18T11:08:45.147823400Z",
     "start_time": "2024-02-18T11:08:45.039649800Z"
    }
   },
   "execution_count": 7
  },
  {
   "cell_type": "code",
   "outputs": [],
   "source": [
    "# O3 health Outcomes\n",
    "\n",
    "o3_health = add_feature(air_quality_df, pm2_5_health, 'Asthma hospitalizations due to Ozone', 'O3_AH')\n",
    "o3_health = add_feature(air_quality_df, o3_health, 'Cardiac and respiratory deaths due to Ozone', 'O3_CRD')\n",
    "air_quality_df_final = add_feature(air_quality_df, o3_health, 'Asthma emergency departments visits due to Ozone', 'O3_AEDV')"
   ],
   "metadata": {
    "collapsed": false,
    "ExecuteTime": {
     "end_time": "2024-02-18T11:08:45.212021500Z",
     "start_time": "2024-02-18T11:08:45.112807500Z"
    }
   },
   "execution_count": 8
  },
  {
   "cell_type": "code",
   "outputs": [
    {
     "data": {
      "text/plain": "    UHF42        Borough  NO2 | Annual Average 2009  \\\n0     206       Brooklyn                      24.79   \n1     106          Bronx                      29.35   \n2     209       Brooklyn                      22.54   \n3     210       Brooklyn                      19.90   \n4     410         Queens                      14.68   \n5     107          Bronx                      26.39   \n6     207       Brooklyn                      25.14   \n7     208       Brooklyn                      20.22   \n8     407         Queens                      22.93   \n9     201       Brooklyn                      26.95   \n10    101          Bronx                      23.20   \n11    501  Staten Island                      21.35   \n12    310      Manhattan                      36.69   \n13    409         Queens                      19.89   \n14    408         Queens                      22.29   \n15    204       Brooklyn                      23.90   \n16    104          Bronx                      22.83   \n17    211       Brooklyn                      27.13   \n18    304      Manhattan                      31.95   \n19    301      Manhattan                      28.50   \n20    401         Queens                      26.29   \n21    203       Brooklyn                      26.93   \n22    205       Brooklyn                      25.26   \n23    103          Bronx                      24.82   \n24    105          Bronx                      28.07   \n25    403         Queens                      22.68   \n26    305      Manhattan                      34.29   \n27    303      Manhattan                      29.90   \n28    202       Brooklyn                      28.40   \n29    406         Queens                      22.78   \n30    102          Bronx                      22.39   \n31    302      Manhattan                      31.06   \n32    306      Manhattan                      39.87   \n33    307      Manhattan                      43.32   \n34    308      Manhattan                      34.75   \n35    504  Staten Island                      14.71   \n36    309      Manhattan                      32.71   \n37    402         Queens                      25.81   \n38    502  Staten Island                      18.41   \n39    503  Staten Island                      17.49   \n40    405         Queens                      24.06   \n41    404         Queens                      20.05   \n\n    NO2 | Annual Average 2010  NO2 | Annual Average 2011  \\\n0                       23.43                      23.32   \n1                       26.38                      26.67   \n2                       21.48                      21.62   \n3                       19.01                      18.98   \n4                       14.07                      14.27   \n5                       24.10                      24.58   \n6                       23.64                      23.56   \n7                       19.10                      19.21   \n8                       21.70                      22.21   \n9                       25.08                      25.84   \n10                      20.13                      20.79   \n11                      19.79                      21.12   \n12                      33.48                      33.50   \n13                      19.10                      19.29   \n14                      21.22                      21.54   \n15                      22.49                      22.90   \n16                      21.04                      21.61   \n17                      25.31                      25.75   \n18                      28.66                      29.30   \n19                      25.22                      25.56   \n20                      24.32                      25.24   \n21                      25.17                      25.30   \n22                      23.77                      23.86   \n23                      22.06                      22.61   \n24                      25.25                      25.57   \n25                      21.48                      21.94   \n26                      31.02                      31.52   \n27                      27.07                      27.65   \n28                      26.46                      26.64   \n29                      21.67                      22.10   \n30                      20.21                      21.06   \n31                      27.83                      28.23   \n32                      36.03                      36.33   \n33                      39.17                      39.18   \n34                      31.80                      32.25   \n35                      13.05                      13.50   \n36                      29.99                      30.45   \n37                      24.18                      24.96   \n38                      17.38                      18.29   \n39                      16.00                      17.17   \n40                      22.61                      23.26   \n41                      19.23                      19.48   \n\n    NO2 | Annual Average 2012  NO2 | Annual Average 2013  \\\n0                       20.87                      20.23   \n1                       24.23                      23.73   \n2                       19.27                      18.58   \n3                       17.21                      16.36   \n4                       13.12                      12.67   \n5                       22.27                      21.54   \n6                       21.16                      20.57   \n7                       17.22                      16.65   \n8                       20.01                      19.65   \n9                       23.63                      22.85   \n10                      19.05                      18.23   \n11                      18.78                      18.38   \n12                      31.07                      30.26   \n13                      17.34                      16.80   \n14                      19.35                      18.96   \n15                      20.67                      20.19   \n16                      19.94                      18.58   \n17                      23.43                      22.72   \n18                      27.08                      26.50   \n19                      23.15                      22.79   \n20                      23.14                      22.30   \n21                      22.88                      22.28   \n22                      21.09                      20.59   \n23                      21.01                      19.89   \n24                      23.42                      22.67   \n25                      19.83                      18.71   \n26                      29.50                      28.59   \n27                      25.32                      24.75   \n28                      23.98                      23.41   \n29                      19.78                      19.03   \n30                      20.02                      18.37   \n31                      25.76                      25.36   \n32                      34.33                      33.35   \n33                      37.29                      36.08   \n34                      29.98                      29.19   \n35                      12.47                      11.51   \n36                      28.23                      27.39   \n37                      22.78                      21.89   \n38                      16.01                      15.40   \n39                      15.31                      14.69   \n40                      20.99                      20.30   \n41                      17.46                      16.41   \n\n    NO2 | Annual Average 2014  NO2 | Annual Average 2015  \\\n0                       20.41                      19.74   \n1                       22.56                      22.28   \n2                       19.10                      18.62   \n3                       17.63                      17.08   \n4                       13.77                      13.55   \n5                       21.14                      20.91   \n6                       20.47                      19.72   \n7                       17.00                      16.52   \n8                       19.19                      18.68   \n9                       22.43                      21.69   \n10                      17.10                      17.82   \n11                      17.54                      17.36   \n12                      28.87                      26.61   \n13                      17.28                      17.16   \n14                      18.81                      18.42   \n15                      19.75                      19.09   \n16                      19.26                      19.36   \n17                      22.20                      21.27   \n18                      25.10                      23.86   \n19                      21.12                      21.14   \n20                      22.07                      21.39   \n21                      21.75                      20.83   \n22                      20.23                      19.71   \n23                      19.44                      19.76   \n24                      21.87                      21.84   \n25                      19.46                      19.09   \n26                      27.62                      25.67   \n27                      23.76                      22.99   \n28                      22.67                      21.87   \n29                      19.26                      18.78   \n30                      18.97                      19.52   \n31                      23.86                      23.15   \n32                      31.90                      29.17   \n33                      34.74                      31.23   \n34                      27.99                      26.27   \n35                      12.59                      11.91   \n36                      26.45                      24.84   \n37                      21.87                      21.11   \n38                      15.53                      15.28   \n39                      14.56                      14.21   \n40                      20.00                      19.25   \n41                      17.44                      17.30   \n\n    NO2 | Annual Average 2016  ...  O3_CRD | 2012-2014  O3_CRD | 2015-2017  \\\n0                       18.87  ...                 5.0                 4.8   \n1                       21.08  ...                 3.7                 3.9   \n2                       17.78  ...                 6.5                 6.3   \n3                       15.62  ...                 8.0                 8.5   \n4                       11.72  ...                 9.4                 7.7   \n5                       19.91  ...                 3.7                 3.6   \n6                       18.86  ...                 4.7                 4.8   \n7                       15.30  ...                 5.9                 6.0   \n8                       17.80  ...                 4.1                 3.8   \n9                       21.44  ...                 3.5                 3.1   \n10                      16.04  ...                10.5                 8.3   \n11                      17.47  ...                 5.0                 5.2   \n12                      26.15  ...                 2.5                 2.7   \n13                      16.16  ...                 4.3                 4.1   \n14                      17.56  ...                 5.4                 5.1   \n15                      18.26  ...                 4.0                 4.1   \n16                      17.92  ...                 5.5                 4.8   \n17                      20.82  ...                 3.9                 3.7   \n18                      23.15  ...                 4.8                 4.6   \n19                      19.85  ...                 3.9                 3.3   \n20                      20.91  ...                 4.2                 4.3   \n21                      20.20  ...                 5.3                 4.9   \n22                      19.32  ...                 3.1                 3.1   \n23                      17.93  ...                 4.2                 4.0   \n24                      20.37  ...                 3.4                 3.4   \n25                      18.24  ...                 5.9                 5.8   \n26                      24.81  ...                 4.3                 3.8   \n27                      22.19  ...                 5.3                 5.2   \n28                      21.65  ...                 4.3                 3.2   \n29                      18.09  ...                 5.4                 5.1   \n30                      17.52  ...                 6.6                 6.2   \n31                      22.19  ...                 4.7                 4.4   \n32                      28.36  ...                 3.7                 3.4   \n33                      30.14  ...                 3.4                 3.6   \n34                      25.93  ...                 2.8                 2.9   \n35                      11.52  ...                 7.2                 7.7   \n36                      24.49  ...                 4.7                 4.5   \n37                      20.53  ...                 3.4                 3.5   \n38                      14.93  ...                 7.9                 8.4   \n39                      14.11  ...                 9.8                 7.7   \n40                      18.65  ...                 6.0                 5.3   \n41                      16.43  ...                 4.8                 5.3   \n\n    O3_AEDV | Estimated annual rate (age 18+) | 2005-2007  \\\n0                                                11.6       \n1                                               124.0       \n2                                                12.9       \n3                                                22.6       \n4                                                58.8       \n5                                               130.1       \n6                                                49.8       \n7                                                38.3       \n8                                                27.0       \n9                                                27.0       \n10                                               30.1       \n11                                               57.9       \n12                                               26.9       \n13                                               29.7       \n14                                               47.7       \n15                                               86.4       \n16                                               64.8       \n17                                               98.3       \n18                                               24.3       \n19                                               46.8       \n20                                               12.5       \n21                                               98.5       \n22                                               40.5       \n23                                               84.1       \n24                                              138.6       \n25                                               11.3       \n26                                                8.5       \n27                                              143.9       \n28                                               51.4       \n29                                               21.1       \n30                                               58.3       \n31                                              156.1       \n32                                               28.6       \n33                                               19.6       \n34                                                9.1       \n35                                               16.3       \n36                                               35.0       \n37                                               17.3       \n38                                               39.8       \n39                                               16.2       \n40                                               16.2       \n41                                                7.5       \n\n    O3_AEDV | Estimated annual rate (age 18+) | 2009-2011  \\\n0                                                15.4       \n1                                               113.1       \n2                                                13.7       \n3                                                24.0       \n4                                                59.7       \n5                                               119.1       \n6                                                65.9       \n7                                                49.8       \n8                                                35.0       \n9                                                26.9       \n10                                               26.5       \n11                                               84.7       \n12                                               27.0       \n13                                               35.5       \n14                                               54.1       \n15                                               95.0       \n16                                               58.1       \n17                                              113.7       \n18                                               24.1       \n19                                               41.7       \n20                                               27.1       \n21                                              105.4       \n22                                               39.1       \n23                                               73.6       \n24                                              127.4       \n25                                               10.5       \n26                                                9.3       \n27                                              135.2       \n28                                               43.5       \n29                                               20.7       \n30                                               42.2       \n31                                              130.4       \n32                                               24.6       \n33                                               19.6       \n34                                                8.9       \n35                                               15.9       \n36                                               42.5       \n37                                               16.1       \n38                                               58.1       \n39                                               22.3       \n40                                               16.6       \n41                                                7.8       \n\n    O3_AEDV | Estimated annual rate (age 18+) | 2012-2014  \\\n0                                                15.1       \n1                                               134.5       \n2                                                14.5       \n3                                                26.8       \n4                                                72.6       \n5                                               146.8       \n6                                                67.6       \n7                                                52.2       \n8                                                33.9       \n9                                                32.1       \n10                                               34.4       \n11                                               74.4       \n12                                               24.6       \n13                                               35.8       \n14                                               61.5       \n15                                              115.2       \n16                                               78.0       \n17                                              120.8       \n18                                               26.9       \n19                                               47.2       \n20                                               31.2       \n21                                              124.3       \n22                                               33.1       \n23                                               99.5       \n24                                              138.1       \n25                                               13.5       \n26                                                8.8       \n27                                              154.9       \n28                                               42.9       \n29                                               25.6       \n30                                               81.9       \n31                                              136.2       \n32                                               28.6       \n33                                               22.5       \n34                                                7.7       \n35                                               18.6       \n36                                               40.9       \n37                                               18.1       \n38                                               59.3       \n39                                               21.6       \n40                                               19.5       \n41                                                9.8       \n\n    O3_AEDV | Estimated annual rate (age 18+) | 2015-2017  \\\n0                                                14.2       \n1                                               124.9       \n2                                                12.8       \n3                                                27.7       \n4                                                63.0       \n5                                               130.1       \n6                                                62.8       \n7                                                48.5       \n8                                                28.3       \n9                                                27.6       \n10                                               36.2       \n11                                               74.6       \n12                                               28.9       \n13                                               28.9       \n14                                               49.0       \n15                                              107.8       \n16                                               60.2       \n17                                               96.7       \n18                                               30.6       \n19                                               42.6       \n20                                               28.7       \n21                                              100.2       \n22                                               26.9       \n23                                               85.5       \n24                                              112.0       \n25                                               11.9       \n26                                                8.6       \n27                                              141.5       \n28                                               34.3       \n29                                               20.5       \n30                                               66.9       \n31                                              121.4       \n32                                               27.3       \n33                                               21.5       \n34                                                8.6       \n35                                               13.9       \n36                                               40.7       \n37                                               20.7       \n38                                               53.8       \n39                                               21.4       \n40                                               18.4       \n41                                                7.0       \n\n    O3_AEDV | Estimated annual rate (under age 18) | 2005-2007  \\\n0                                                12.4            \n1                                               171.2            \n2                                                16.9            \n3                                                33.4            \n4                                               135.2            \n5                                               169.4            \n6                                                93.5            \n7                                                79.4            \n8                                                63.5            \n9                                                42.7            \n10                                               68.3            \n11                                               92.9            \n12                                               57.2            \n13                                               72.9            \n14                                              103.9            \n15                                              136.8            \n16                                              114.6            \n17                                              138.7            \n18                                               80.5            \n19                                              110.4            \n20                                               47.4            \n21                                              155.7            \n22                                               37.7            \n23                                              115.8            \n24                                              159.6            \n25                                               38.8            \n26                                               30.0            \n27                                              224.8            \n28                                               77.1            \n29                                               49.7            \n30                                              114.5            \n31                                              292.5            \n32                                               97.8            \n33                                               42.4            \n34                                               19.9            \n35                                               23.6            \n36                                               85.8            \n37                                               61.5            \n38                                               73.2            \n39                                               28.0            \n40                                               40.4            \n41                                               23.4            \n\n    O3_AEDV | Estimated annual rate (under age 18) | 2009-2011  \\\n0                                                22.7            \n1                                               202.0            \n2                                                24.9            \n3                                                42.3            \n4                                               137.4            \n5                                               206.3            \n6                                               129.2            \n7                                                97.7            \n8                                                89.0            \n9                                                58.6            \n10                                               66.2            \n11                                              118.8            \n12                                               56.8            \n13                                               90.2            \n14                                              144.7            \n15                                              164.0            \n16                                              116.0            \n17                                              185.8            \n18                                               69.8            \n19                                              130.2            \n20                                               75.0            \n21                                              191.4            \n22                                               59.5            \n23                                              125.0            \n24                                              183.9            \n25                                               40.0            \n26                                               35.4            \n27                                              276.0            \n28                                               95.3            \n29                                               60.9            \n30                                               79.3            \n31                                              269.9            \n32                                               91.6            \n33                                               70.0            \n34                                               24.2            \n35                                               29.8            \n36                                              144.0            \n37                                               72.4            \n38                                              101.7            \n39                                               47.3            \n40                                               56.3            \n41                                               27.5            \n\n    O3_AEDV | Estimated annual rate (under age 18) | 2012-2014  \\\n0                                                24.0            \n1                                               248.9            \n2                                                24.2            \n3                                                42.4            \n4                                                91.0            \n5                                               237.6            \n6                                               137.4            \n7                                                98.8            \n8                                                83.7            \n9                                                50.5            \n10                                              102.7            \n11                                              109.6            \n12                                               55.3            \n13                                               83.8            \n14                                              133.6            \n15                                              182.4            \n16                                              164.3            \n17                                              196.9            \n18                                               69.6            \n19                                              126.2            \n20                                               59.9            \n21                                              213.9            \n22                                               49.9            \n23                                              232.6            \n24                                              234.9            \n25                                               39.2            \n26                                               26.2            \n27                                              261.6            \n28                                               87.6            \n29                                               57.7            \n30                                              184.4            \n31                                              277.7            \n32                                               75.7            \n33                                               48.8            \n34                                               18.5            \n35                                               29.0            \n36                                              127.0            \n37                                               62.0            \n38                                               94.8            \n39                                               35.5            \n40                                               57.6            \n41                                               19.5            \n\n    O3_AEDV | Estimated annual rate (under age 18) | 2015-2017  \n0                                                22.5           \n1                                               220.8           \n2                                                25.9           \n3                                                46.2           \n4                                                84.8           \n5                                               225.0           \n6                                               119.3           \n7                                                88.9           \n8                                                61.2           \n9                                                36.5           \n10                                               79.5           \n11                                              107.9           \n12                                               47.4           \n13                                               60.1           \n14                                              105.7           \n15                                              163.6           \n16                                              131.3           \n17                                              145.3           \n18                                               60.6           \n19                                               99.8           \n20                                               58.8           \n21                                              173.9           \n22                                               47.4           \n23                                              187.8           \n24                                              199.6           \n25                                               39.7           \n26                                               24.6           \n27                                              262.3           \n28                                               62.6           \n29                                               54.8           \n30                                              143.0           \n31                                              228.6           \n32                                               67.9           \n33                                               56.6           \n34                                               18.0           \n35                                               19.3           \n36                                              124.9           \n37                                               80.7           \n38                                               78.7           \n39                                               30.4           \n40                                               43.3           \n41                                               19.0           \n\n[42 rows x 134 columns]",
      "text/html": "<div>\n<style scoped>\n    .dataframe tbody tr th:only-of-type {\n        vertical-align: middle;\n    }\n\n    .dataframe tbody tr th {\n        vertical-align: top;\n    }\n\n    .dataframe thead th {\n        text-align: right;\n    }\n</style>\n<table border=\"1\" class=\"dataframe\">\n  <thead>\n    <tr style=\"text-align: right;\">\n      <th></th>\n      <th>UHF42</th>\n      <th>Borough</th>\n      <th>NO2 | Annual Average 2009</th>\n      <th>NO2 | Annual Average 2010</th>\n      <th>NO2 | Annual Average 2011</th>\n      <th>NO2 | Annual Average 2012</th>\n      <th>NO2 | Annual Average 2013</th>\n      <th>NO2 | Annual Average 2014</th>\n      <th>NO2 | Annual Average 2015</th>\n      <th>NO2 | Annual Average 2016</th>\n      <th>...</th>\n      <th>O3_CRD | 2012-2014</th>\n      <th>O3_CRD | 2015-2017</th>\n      <th>O3_AEDV | Estimated annual rate (age 18+) | 2005-2007</th>\n      <th>O3_AEDV | Estimated annual rate (age 18+) | 2009-2011</th>\n      <th>O3_AEDV | Estimated annual rate (age 18+) | 2012-2014</th>\n      <th>O3_AEDV | Estimated annual rate (age 18+) | 2015-2017</th>\n      <th>O3_AEDV | Estimated annual rate (under age 18) | 2005-2007</th>\n      <th>O3_AEDV | Estimated annual rate (under age 18) | 2009-2011</th>\n      <th>O3_AEDV | Estimated annual rate (under age 18) | 2012-2014</th>\n      <th>O3_AEDV | Estimated annual rate (under age 18) | 2015-2017</th>\n    </tr>\n  </thead>\n  <tbody>\n    <tr>\n      <th>0</th>\n      <td>206</td>\n      <td>Brooklyn</td>\n      <td>24.79</td>\n      <td>23.43</td>\n      <td>23.32</td>\n      <td>20.87</td>\n      <td>20.23</td>\n      <td>20.41</td>\n      <td>19.74</td>\n      <td>18.87</td>\n      <td>...</td>\n      <td>5.0</td>\n      <td>4.8</td>\n      <td>11.6</td>\n      <td>15.4</td>\n      <td>15.1</td>\n      <td>14.2</td>\n      <td>12.4</td>\n      <td>22.7</td>\n      <td>24.0</td>\n      <td>22.5</td>\n    </tr>\n    <tr>\n      <th>1</th>\n      <td>106</td>\n      <td>Bronx</td>\n      <td>29.35</td>\n      <td>26.38</td>\n      <td>26.67</td>\n      <td>24.23</td>\n      <td>23.73</td>\n      <td>22.56</td>\n      <td>22.28</td>\n      <td>21.08</td>\n      <td>...</td>\n      <td>3.7</td>\n      <td>3.9</td>\n      <td>124.0</td>\n      <td>113.1</td>\n      <td>134.5</td>\n      <td>124.9</td>\n      <td>171.2</td>\n      <td>202.0</td>\n      <td>248.9</td>\n      <td>220.8</td>\n    </tr>\n    <tr>\n      <th>2</th>\n      <td>209</td>\n      <td>Brooklyn</td>\n      <td>22.54</td>\n      <td>21.48</td>\n      <td>21.62</td>\n      <td>19.27</td>\n      <td>18.58</td>\n      <td>19.10</td>\n      <td>18.62</td>\n      <td>17.78</td>\n      <td>...</td>\n      <td>6.5</td>\n      <td>6.3</td>\n      <td>12.9</td>\n      <td>13.7</td>\n      <td>14.5</td>\n      <td>12.8</td>\n      <td>16.9</td>\n      <td>24.9</td>\n      <td>24.2</td>\n      <td>25.9</td>\n    </tr>\n    <tr>\n      <th>3</th>\n      <td>210</td>\n      <td>Brooklyn</td>\n      <td>19.90</td>\n      <td>19.01</td>\n      <td>18.98</td>\n      <td>17.21</td>\n      <td>16.36</td>\n      <td>17.63</td>\n      <td>17.08</td>\n      <td>15.62</td>\n      <td>...</td>\n      <td>8.0</td>\n      <td>8.5</td>\n      <td>22.6</td>\n      <td>24.0</td>\n      <td>26.8</td>\n      <td>27.7</td>\n      <td>33.4</td>\n      <td>42.3</td>\n      <td>42.4</td>\n      <td>46.2</td>\n    </tr>\n    <tr>\n      <th>4</th>\n      <td>410</td>\n      <td>Queens</td>\n      <td>14.68</td>\n      <td>14.07</td>\n      <td>14.27</td>\n      <td>13.12</td>\n      <td>12.67</td>\n      <td>13.77</td>\n      <td>13.55</td>\n      <td>11.72</td>\n      <td>...</td>\n      <td>9.4</td>\n      <td>7.7</td>\n      <td>58.8</td>\n      <td>59.7</td>\n      <td>72.6</td>\n      <td>63.0</td>\n      <td>135.2</td>\n      <td>137.4</td>\n      <td>91.0</td>\n      <td>84.8</td>\n    </tr>\n    <tr>\n      <th>5</th>\n      <td>107</td>\n      <td>Bronx</td>\n      <td>26.39</td>\n      <td>24.10</td>\n      <td>24.58</td>\n      <td>22.27</td>\n      <td>21.54</td>\n      <td>21.14</td>\n      <td>20.91</td>\n      <td>19.91</td>\n      <td>...</td>\n      <td>3.7</td>\n      <td>3.6</td>\n      <td>130.1</td>\n      <td>119.1</td>\n      <td>146.8</td>\n      <td>130.1</td>\n      <td>169.4</td>\n      <td>206.3</td>\n      <td>237.6</td>\n      <td>225.0</td>\n    </tr>\n    <tr>\n      <th>6</th>\n      <td>207</td>\n      <td>Brooklyn</td>\n      <td>25.14</td>\n      <td>23.64</td>\n      <td>23.56</td>\n      <td>21.16</td>\n      <td>20.57</td>\n      <td>20.47</td>\n      <td>19.72</td>\n      <td>18.86</td>\n      <td>...</td>\n      <td>4.7</td>\n      <td>4.8</td>\n      <td>49.8</td>\n      <td>65.9</td>\n      <td>67.6</td>\n      <td>62.8</td>\n      <td>93.5</td>\n      <td>129.2</td>\n      <td>137.4</td>\n      <td>119.3</td>\n    </tr>\n    <tr>\n      <th>7</th>\n      <td>208</td>\n      <td>Brooklyn</td>\n      <td>20.22</td>\n      <td>19.10</td>\n      <td>19.21</td>\n      <td>17.22</td>\n      <td>16.65</td>\n      <td>17.00</td>\n      <td>16.52</td>\n      <td>15.30</td>\n      <td>...</td>\n      <td>5.9</td>\n      <td>6.0</td>\n      <td>38.3</td>\n      <td>49.8</td>\n      <td>52.2</td>\n      <td>48.5</td>\n      <td>79.4</td>\n      <td>97.7</td>\n      <td>98.8</td>\n      <td>88.9</td>\n    </tr>\n    <tr>\n      <th>8</th>\n      <td>407</td>\n      <td>Queens</td>\n      <td>22.93</td>\n      <td>21.70</td>\n      <td>22.21</td>\n      <td>20.01</td>\n      <td>19.65</td>\n      <td>19.19</td>\n      <td>18.68</td>\n      <td>17.80</td>\n      <td>...</td>\n      <td>4.1</td>\n      <td>3.8</td>\n      <td>27.0</td>\n      <td>35.0</td>\n      <td>33.9</td>\n      <td>28.3</td>\n      <td>63.5</td>\n      <td>89.0</td>\n      <td>83.7</td>\n      <td>61.2</td>\n    </tr>\n    <tr>\n      <th>9</th>\n      <td>201</td>\n      <td>Brooklyn</td>\n      <td>26.95</td>\n      <td>25.08</td>\n      <td>25.84</td>\n      <td>23.63</td>\n      <td>22.85</td>\n      <td>22.43</td>\n      <td>21.69</td>\n      <td>21.44</td>\n      <td>...</td>\n      <td>3.5</td>\n      <td>3.1</td>\n      <td>27.0</td>\n      <td>26.9</td>\n      <td>32.1</td>\n      <td>27.6</td>\n      <td>42.7</td>\n      <td>58.6</td>\n      <td>50.5</td>\n      <td>36.5</td>\n    </tr>\n    <tr>\n      <th>10</th>\n      <td>101</td>\n      <td>Bronx</td>\n      <td>23.20</td>\n      <td>20.13</td>\n      <td>20.79</td>\n      <td>19.05</td>\n      <td>18.23</td>\n      <td>17.10</td>\n      <td>17.82</td>\n      <td>16.04</td>\n      <td>...</td>\n      <td>10.5</td>\n      <td>8.3</td>\n      <td>30.1</td>\n      <td>26.5</td>\n      <td>34.4</td>\n      <td>36.2</td>\n      <td>68.3</td>\n      <td>66.2</td>\n      <td>102.7</td>\n      <td>79.5</td>\n    </tr>\n    <tr>\n      <th>11</th>\n      <td>501</td>\n      <td>Staten Island</td>\n      <td>21.35</td>\n      <td>19.79</td>\n      <td>21.12</td>\n      <td>18.78</td>\n      <td>18.38</td>\n      <td>17.54</td>\n      <td>17.36</td>\n      <td>17.47</td>\n      <td>...</td>\n      <td>5.0</td>\n      <td>5.2</td>\n      <td>57.9</td>\n      <td>84.7</td>\n      <td>74.4</td>\n      <td>74.6</td>\n      <td>92.9</td>\n      <td>118.8</td>\n      <td>109.6</td>\n      <td>107.9</td>\n    </tr>\n    <tr>\n      <th>12</th>\n      <td>310</td>\n      <td>Manhattan</td>\n      <td>36.69</td>\n      <td>33.48</td>\n      <td>33.50</td>\n      <td>31.07</td>\n      <td>30.26</td>\n      <td>28.87</td>\n      <td>26.61</td>\n      <td>26.15</td>\n      <td>...</td>\n      <td>2.5</td>\n      <td>2.7</td>\n      <td>26.9</td>\n      <td>27.0</td>\n      <td>24.6</td>\n      <td>28.9</td>\n      <td>57.2</td>\n      <td>56.8</td>\n      <td>55.3</td>\n      <td>47.4</td>\n    </tr>\n    <tr>\n      <th>13</th>\n      <td>409</td>\n      <td>Queens</td>\n      <td>19.89</td>\n      <td>19.10</td>\n      <td>19.29</td>\n      <td>17.34</td>\n      <td>16.80</td>\n      <td>17.28</td>\n      <td>17.16</td>\n      <td>16.16</td>\n      <td>...</td>\n      <td>4.3</td>\n      <td>4.1</td>\n      <td>29.7</td>\n      <td>35.5</td>\n      <td>35.8</td>\n      <td>28.9</td>\n      <td>72.9</td>\n      <td>90.2</td>\n      <td>83.8</td>\n      <td>60.1</td>\n    </tr>\n    <tr>\n      <th>14</th>\n      <td>408</td>\n      <td>Queens</td>\n      <td>22.29</td>\n      <td>21.22</td>\n      <td>21.54</td>\n      <td>19.35</td>\n      <td>18.96</td>\n      <td>18.81</td>\n      <td>18.42</td>\n      <td>17.56</td>\n      <td>...</td>\n      <td>5.4</td>\n      <td>5.1</td>\n      <td>47.7</td>\n      <td>54.1</td>\n      <td>61.5</td>\n      <td>49.0</td>\n      <td>103.9</td>\n      <td>144.7</td>\n      <td>133.6</td>\n      <td>105.7</td>\n    </tr>\n    <tr>\n      <th>15</th>\n      <td>204</td>\n      <td>Brooklyn</td>\n      <td>23.90</td>\n      <td>22.49</td>\n      <td>22.90</td>\n      <td>20.67</td>\n      <td>20.19</td>\n      <td>19.75</td>\n      <td>19.09</td>\n      <td>18.26</td>\n      <td>...</td>\n      <td>4.0</td>\n      <td>4.1</td>\n      <td>86.4</td>\n      <td>95.0</td>\n      <td>115.2</td>\n      <td>107.8</td>\n      <td>136.8</td>\n      <td>164.0</td>\n      <td>182.4</td>\n      <td>163.6</td>\n    </tr>\n    <tr>\n      <th>16</th>\n      <td>104</td>\n      <td>Bronx</td>\n      <td>22.83</td>\n      <td>21.04</td>\n      <td>21.61</td>\n      <td>19.94</td>\n      <td>18.58</td>\n      <td>19.26</td>\n      <td>19.36</td>\n      <td>17.92</td>\n      <td>...</td>\n      <td>5.5</td>\n      <td>4.8</td>\n      <td>64.8</td>\n      <td>58.1</td>\n      <td>78.0</td>\n      <td>60.2</td>\n      <td>114.6</td>\n      <td>116.0</td>\n      <td>164.3</td>\n      <td>131.3</td>\n    </tr>\n    <tr>\n      <th>17</th>\n      <td>211</td>\n      <td>Brooklyn</td>\n      <td>27.13</td>\n      <td>25.31</td>\n      <td>25.75</td>\n      <td>23.43</td>\n      <td>22.72</td>\n      <td>22.20</td>\n      <td>21.27</td>\n      <td>20.82</td>\n      <td>...</td>\n      <td>3.9</td>\n      <td>3.7</td>\n      <td>98.3</td>\n      <td>113.7</td>\n      <td>120.8</td>\n      <td>96.7</td>\n      <td>138.7</td>\n      <td>185.8</td>\n      <td>196.9</td>\n      <td>145.3</td>\n    </tr>\n    <tr>\n      <th>18</th>\n      <td>304</td>\n      <td>Manhattan</td>\n      <td>31.95</td>\n      <td>28.66</td>\n      <td>29.30</td>\n      <td>27.08</td>\n      <td>26.50</td>\n      <td>25.10</td>\n      <td>23.86</td>\n      <td>23.15</td>\n      <td>...</td>\n      <td>4.8</td>\n      <td>4.6</td>\n      <td>24.3</td>\n      <td>24.1</td>\n      <td>26.9</td>\n      <td>30.6</td>\n      <td>80.5</td>\n      <td>69.8</td>\n      <td>69.6</td>\n      <td>60.6</td>\n    </tr>\n    <tr>\n      <th>19</th>\n      <td>301</td>\n      <td>Manhattan</td>\n      <td>28.50</td>\n      <td>25.22</td>\n      <td>25.56</td>\n      <td>23.15</td>\n      <td>22.79</td>\n      <td>21.12</td>\n      <td>21.14</td>\n      <td>19.85</td>\n      <td>...</td>\n      <td>3.9</td>\n      <td>3.3</td>\n      <td>46.8</td>\n      <td>41.7</td>\n      <td>47.2</td>\n      <td>42.6</td>\n      <td>110.4</td>\n      <td>130.2</td>\n      <td>126.2</td>\n      <td>99.8</td>\n    </tr>\n    <tr>\n      <th>20</th>\n      <td>401</td>\n      <td>Queens</td>\n      <td>26.29</td>\n      <td>24.32</td>\n      <td>25.24</td>\n      <td>23.14</td>\n      <td>22.30</td>\n      <td>22.07</td>\n      <td>21.39</td>\n      <td>20.91</td>\n      <td>...</td>\n      <td>4.2</td>\n      <td>4.3</td>\n      <td>12.5</td>\n      <td>27.1</td>\n      <td>31.2</td>\n      <td>28.7</td>\n      <td>47.4</td>\n      <td>75.0</td>\n      <td>59.9</td>\n      <td>58.8</td>\n    </tr>\n    <tr>\n      <th>21</th>\n      <td>203</td>\n      <td>Brooklyn</td>\n      <td>26.93</td>\n      <td>25.17</td>\n      <td>25.30</td>\n      <td>22.88</td>\n      <td>22.28</td>\n      <td>21.75</td>\n      <td>20.83</td>\n      <td>20.20</td>\n      <td>...</td>\n      <td>5.3</td>\n      <td>4.9</td>\n      <td>98.5</td>\n      <td>105.4</td>\n      <td>124.3</td>\n      <td>100.2</td>\n      <td>155.7</td>\n      <td>191.4</td>\n      <td>213.9</td>\n      <td>173.9</td>\n    </tr>\n    <tr>\n      <th>22</th>\n      <td>205</td>\n      <td>Brooklyn</td>\n      <td>25.26</td>\n      <td>23.77</td>\n      <td>23.86</td>\n      <td>21.09</td>\n      <td>20.59</td>\n      <td>20.23</td>\n      <td>19.71</td>\n      <td>19.32</td>\n      <td>...</td>\n      <td>3.1</td>\n      <td>3.1</td>\n      <td>40.5</td>\n      <td>39.1</td>\n      <td>33.1</td>\n      <td>26.9</td>\n      <td>37.7</td>\n      <td>59.5</td>\n      <td>49.9</td>\n      <td>47.4</td>\n    </tr>\n    <tr>\n      <th>23</th>\n      <td>103</td>\n      <td>Bronx</td>\n      <td>24.82</td>\n      <td>22.06</td>\n      <td>22.61</td>\n      <td>21.01</td>\n      <td>19.89</td>\n      <td>19.44</td>\n      <td>19.76</td>\n      <td>17.93</td>\n      <td>...</td>\n      <td>4.2</td>\n      <td>4.0</td>\n      <td>84.1</td>\n      <td>73.6</td>\n      <td>99.5</td>\n      <td>85.5</td>\n      <td>115.8</td>\n      <td>125.0</td>\n      <td>232.6</td>\n      <td>187.8</td>\n    </tr>\n    <tr>\n      <th>24</th>\n      <td>105</td>\n      <td>Bronx</td>\n      <td>28.07</td>\n      <td>25.25</td>\n      <td>25.57</td>\n      <td>23.42</td>\n      <td>22.67</td>\n      <td>21.87</td>\n      <td>21.84</td>\n      <td>20.37</td>\n      <td>...</td>\n      <td>3.4</td>\n      <td>3.4</td>\n      <td>138.6</td>\n      <td>127.4</td>\n      <td>138.1</td>\n      <td>112.0</td>\n      <td>159.6</td>\n      <td>183.9</td>\n      <td>234.9</td>\n      <td>199.6</td>\n    </tr>\n    <tr>\n      <th>25</th>\n      <td>403</td>\n      <td>Queens</td>\n      <td>22.68</td>\n      <td>21.48</td>\n      <td>21.94</td>\n      <td>19.83</td>\n      <td>18.71</td>\n      <td>19.46</td>\n      <td>19.09</td>\n      <td>18.24</td>\n      <td>...</td>\n      <td>5.9</td>\n      <td>5.8</td>\n      <td>11.3</td>\n      <td>10.5</td>\n      <td>13.5</td>\n      <td>11.9</td>\n      <td>38.8</td>\n      <td>40.0</td>\n      <td>39.2</td>\n      <td>39.7</td>\n    </tr>\n    <tr>\n      <th>26</th>\n      <td>305</td>\n      <td>Manhattan</td>\n      <td>34.29</td>\n      <td>31.02</td>\n      <td>31.52</td>\n      <td>29.50</td>\n      <td>28.59</td>\n      <td>27.62</td>\n      <td>25.67</td>\n      <td>24.81</td>\n      <td>...</td>\n      <td>4.3</td>\n      <td>3.8</td>\n      <td>8.5</td>\n      <td>9.3</td>\n      <td>8.8</td>\n      <td>8.6</td>\n      <td>30.0</td>\n      <td>35.4</td>\n      <td>26.2</td>\n      <td>24.6</td>\n    </tr>\n    <tr>\n      <th>27</th>\n      <td>303</td>\n      <td>Manhattan</td>\n      <td>29.90</td>\n      <td>27.07</td>\n      <td>27.65</td>\n      <td>25.32</td>\n      <td>24.75</td>\n      <td>23.76</td>\n      <td>22.99</td>\n      <td>22.19</td>\n      <td>...</td>\n      <td>5.3</td>\n      <td>5.2</td>\n      <td>143.9</td>\n      <td>135.2</td>\n      <td>154.9</td>\n      <td>141.5</td>\n      <td>224.8</td>\n      <td>276.0</td>\n      <td>261.6</td>\n      <td>262.3</td>\n    </tr>\n    <tr>\n      <th>28</th>\n      <td>202</td>\n      <td>Brooklyn</td>\n      <td>28.40</td>\n      <td>26.46</td>\n      <td>26.64</td>\n      <td>23.98</td>\n      <td>23.41</td>\n      <td>22.67</td>\n      <td>21.87</td>\n      <td>21.65</td>\n      <td>...</td>\n      <td>4.3</td>\n      <td>3.2</td>\n      <td>51.4</td>\n      <td>43.5</td>\n      <td>42.9</td>\n      <td>34.3</td>\n      <td>77.1</td>\n      <td>95.3</td>\n      <td>87.6</td>\n      <td>62.6</td>\n    </tr>\n    <tr>\n      <th>29</th>\n      <td>406</td>\n      <td>Queens</td>\n      <td>22.78</td>\n      <td>21.67</td>\n      <td>22.10</td>\n      <td>19.78</td>\n      <td>19.03</td>\n      <td>19.26</td>\n      <td>18.78</td>\n      <td>18.09</td>\n      <td>...</td>\n      <td>5.4</td>\n      <td>5.1</td>\n      <td>21.1</td>\n      <td>20.7</td>\n      <td>25.6</td>\n      <td>20.5</td>\n      <td>49.7</td>\n      <td>60.9</td>\n      <td>57.7</td>\n      <td>54.8</td>\n    </tr>\n    <tr>\n      <th>30</th>\n      <td>102</td>\n      <td>Bronx</td>\n      <td>22.39</td>\n      <td>20.21</td>\n      <td>21.06</td>\n      <td>20.02</td>\n      <td>18.37</td>\n      <td>18.97</td>\n      <td>19.52</td>\n      <td>17.52</td>\n      <td>...</td>\n      <td>6.6</td>\n      <td>6.2</td>\n      <td>58.3</td>\n      <td>42.2</td>\n      <td>81.9</td>\n      <td>66.9</td>\n      <td>114.5</td>\n      <td>79.3</td>\n      <td>184.4</td>\n      <td>143.0</td>\n    </tr>\n    <tr>\n      <th>31</th>\n      <td>302</td>\n      <td>Manhattan</td>\n      <td>31.06</td>\n      <td>27.83</td>\n      <td>28.23</td>\n      <td>25.76</td>\n      <td>25.36</td>\n      <td>23.86</td>\n      <td>23.15</td>\n      <td>22.19</td>\n      <td>...</td>\n      <td>4.7</td>\n      <td>4.4</td>\n      <td>156.1</td>\n      <td>130.4</td>\n      <td>136.2</td>\n      <td>121.4</td>\n      <td>292.5</td>\n      <td>269.9</td>\n      <td>277.7</td>\n      <td>228.6</td>\n    </tr>\n    <tr>\n      <th>32</th>\n      <td>306</td>\n      <td>Manhattan</td>\n      <td>39.87</td>\n      <td>36.03</td>\n      <td>36.33</td>\n      <td>34.33</td>\n      <td>33.35</td>\n      <td>31.90</td>\n      <td>29.17</td>\n      <td>28.36</td>\n      <td>...</td>\n      <td>3.7</td>\n      <td>3.4</td>\n      <td>28.6</td>\n      <td>24.6</td>\n      <td>28.6</td>\n      <td>27.3</td>\n      <td>97.8</td>\n      <td>91.6</td>\n      <td>75.7</td>\n      <td>67.9</td>\n    </tr>\n    <tr>\n      <th>33</th>\n      <td>307</td>\n      <td>Manhattan</td>\n      <td>43.32</td>\n      <td>39.17</td>\n      <td>39.18</td>\n      <td>37.29</td>\n      <td>36.08</td>\n      <td>34.74</td>\n      <td>31.23</td>\n      <td>30.14</td>\n      <td>...</td>\n      <td>3.4</td>\n      <td>3.6</td>\n      <td>19.6</td>\n      <td>19.6</td>\n      <td>22.5</td>\n      <td>21.5</td>\n      <td>42.4</td>\n      <td>70.0</td>\n      <td>48.8</td>\n      <td>56.6</td>\n    </tr>\n    <tr>\n      <th>34</th>\n      <td>308</td>\n      <td>Manhattan</td>\n      <td>34.75</td>\n      <td>31.80</td>\n      <td>32.25</td>\n      <td>29.98</td>\n      <td>29.19</td>\n      <td>27.99</td>\n      <td>26.27</td>\n      <td>25.93</td>\n      <td>...</td>\n      <td>2.8</td>\n      <td>2.9</td>\n      <td>9.1</td>\n      <td>8.9</td>\n      <td>7.7</td>\n      <td>8.6</td>\n      <td>19.9</td>\n      <td>24.2</td>\n      <td>18.5</td>\n      <td>18.0</td>\n    </tr>\n    <tr>\n      <th>35</th>\n      <td>504</td>\n      <td>Staten Island</td>\n      <td>14.71</td>\n      <td>13.05</td>\n      <td>13.50</td>\n      <td>12.47</td>\n      <td>11.51</td>\n      <td>12.59</td>\n      <td>11.91</td>\n      <td>11.52</td>\n      <td>...</td>\n      <td>7.2</td>\n      <td>7.7</td>\n      <td>16.3</td>\n      <td>15.9</td>\n      <td>18.6</td>\n      <td>13.9</td>\n      <td>23.6</td>\n      <td>29.8</td>\n      <td>29.0</td>\n      <td>19.3</td>\n    </tr>\n    <tr>\n      <th>36</th>\n      <td>309</td>\n      <td>Manhattan</td>\n      <td>32.71</td>\n      <td>29.99</td>\n      <td>30.45</td>\n      <td>28.23</td>\n      <td>27.39</td>\n      <td>26.45</td>\n      <td>24.84</td>\n      <td>24.49</td>\n      <td>...</td>\n      <td>4.7</td>\n      <td>4.5</td>\n      <td>35.0</td>\n      <td>42.5</td>\n      <td>40.9</td>\n      <td>40.7</td>\n      <td>85.8</td>\n      <td>144.0</td>\n      <td>127.0</td>\n      <td>124.9</td>\n    </tr>\n    <tr>\n      <th>37</th>\n      <td>402</td>\n      <td>Queens</td>\n      <td>25.81</td>\n      <td>24.18</td>\n      <td>24.96</td>\n      <td>22.78</td>\n      <td>21.89</td>\n      <td>21.87</td>\n      <td>21.11</td>\n      <td>20.53</td>\n      <td>...</td>\n      <td>3.4</td>\n      <td>3.5</td>\n      <td>17.3</td>\n      <td>16.1</td>\n      <td>18.1</td>\n      <td>20.7</td>\n      <td>61.5</td>\n      <td>72.4</td>\n      <td>62.0</td>\n      <td>80.7</td>\n    </tr>\n    <tr>\n      <th>38</th>\n      <td>502</td>\n      <td>Staten Island</td>\n      <td>18.41</td>\n      <td>17.38</td>\n      <td>18.29</td>\n      <td>16.01</td>\n      <td>15.40</td>\n      <td>15.53</td>\n      <td>15.28</td>\n      <td>14.93</td>\n      <td>...</td>\n      <td>7.9</td>\n      <td>8.4</td>\n      <td>39.8</td>\n      <td>58.1</td>\n      <td>59.3</td>\n      <td>53.8</td>\n      <td>73.2</td>\n      <td>101.7</td>\n      <td>94.8</td>\n      <td>78.7</td>\n    </tr>\n    <tr>\n      <th>39</th>\n      <td>503</td>\n      <td>Staten Island</td>\n      <td>17.49</td>\n      <td>16.00</td>\n      <td>17.17</td>\n      <td>15.31</td>\n      <td>14.69</td>\n      <td>14.56</td>\n      <td>14.21</td>\n      <td>14.11</td>\n      <td>...</td>\n      <td>9.8</td>\n      <td>7.7</td>\n      <td>16.2</td>\n      <td>22.3</td>\n      <td>21.6</td>\n      <td>21.4</td>\n      <td>28.0</td>\n      <td>47.3</td>\n      <td>35.5</td>\n      <td>30.4</td>\n    </tr>\n    <tr>\n      <th>40</th>\n      <td>405</td>\n      <td>Queens</td>\n      <td>24.06</td>\n      <td>22.61</td>\n      <td>23.26</td>\n      <td>20.99</td>\n      <td>20.30</td>\n      <td>20.00</td>\n      <td>19.25</td>\n      <td>18.65</td>\n      <td>...</td>\n      <td>6.0</td>\n      <td>5.3</td>\n      <td>16.2</td>\n      <td>16.6</td>\n      <td>19.5</td>\n      <td>18.4</td>\n      <td>40.4</td>\n      <td>56.3</td>\n      <td>57.6</td>\n      <td>43.3</td>\n    </tr>\n    <tr>\n      <th>41</th>\n      <td>404</td>\n      <td>Queens</td>\n      <td>20.05</td>\n      <td>19.23</td>\n      <td>19.48</td>\n      <td>17.46</td>\n      <td>16.41</td>\n      <td>17.44</td>\n      <td>17.30</td>\n      <td>16.43</td>\n      <td>...</td>\n      <td>4.8</td>\n      <td>5.3</td>\n      <td>7.5</td>\n      <td>7.8</td>\n      <td>9.8</td>\n      <td>7.0</td>\n      <td>23.4</td>\n      <td>27.5</td>\n      <td>19.5</td>\n      <td>19.0</td>\n    </tr>\n  </tbody>\n</table>\n<p>42 rows × 134 columns</p>\n</div>"
     },
     "execution_count": 9,
     "metadata": {},
     "output_type": "execute_result"
    }
   ],
   "source": [
    "air_quality_df_final"
   ],
   "metadata": {
    "collapsed": false,
    "ExecuteTime": {
     "end_time": "2024-02-18T11:08:45.258108Z",
     "start_time": "2024-02-18T11:08:45.195912Z"
    }
   },
   "execution_count": 9
  },
  {
   "cell_type": "markdown",
   "source": [
    "## 2. External factors related to outdoor pollutants"
   ],
   "metadata": {
    "collapsed": false
   }
  },
  {
   "cell_type": "markdown",
   "source": [
    "To understand the variability of outdoor pollutants between different neighborhoods, we will incorporate additional datasets concerning potential influential factors contributing to or causing one neighborhood to exhibit higher pollution levels, deaths, hospitalizations, and department visits than another.\n",
    "\n",
    "This data is included : \n",
    "- Traffic density\n",
    "- Poverty levels\n",
    "- Distribution of parks\n",
    "- Number of restaurants\n",
    "- Building energy consumption\n",
    "\n",
    "Same as air quality dataset, we will keep data by UH42 for all the following datasets."
   ],
   "metadata": {
    "collapsed": false
   }
  },
  {
   "cell_type": "markdown",
   "source": [
    "### a. Traffic data"
   ],
   "metadata": {
    "collapsed": false
   }
  },
  {
   "cell_type": "markdown",
   "source": [
    "Actors such as traffic density plays a significant role in our study. Therefore, we integrated a dataset containing traffic records from Automated Traffic Recorders (ATR) used in NY to collect traffic sample volume counts at bridge crossings and roadways.\n",
    "This data was obtained from [NYC Government Open Data](https://data.cityofnewyork.us/Transportation/Automated-Traffic-Volume-Counts/7ym2-wayt/about_data?fbclid=IwAR0libv-PXblJ_jFkDTj4m5nvP8W6eqRqOxvkNmpN2EOP1701mY9S2AzJQ8).\n",
    "Each line in the dataset corresponds to the traffic volume and the geographical coordinates of the sensor. We will translate the geographical coordinates into UHF42 and calculate the mean traffic volume for each UHF42."
   ],
   "metadata": {
    "collapsed": false
   }
  },
  {
   "cell_type": "code",
   "outputs": [],
   "source": [
    "path_file = os.path.join('data', 'traffic_dataset.csv')\n",
    "traffic_df = pd.read_csv(path_file)"
   ],
   "metadata": {
    "collapsed": false,
    "ExecuteTime": {
     "end_time": "2024-02-18T11:08:45.437125200Z",
     "start_time": "2024-02-18T11:08:45.253097Z"
    }
   },
   "execution_count": 10
  },
  {
   "cell_type": "code",
   "outputs": [],
   "source": [
    "# Create GeoDataFrame and add geometry that will be used after to get the UHF42\n",
    "traffic_df['geometry'] = traffic_df['WktGeom'].apply(loads)\n",
    "traffic_df = gpd.GeoDataFrame(traffic_df, geometry='geometry')\n",
    "\n",
    "# Read UHF42 data that will be used to find the UHF42 corresponding to each geometry in traffic dataset\n",
    "uhf42_data = gpd.read_file('UHF42/UHF42.shp')\n",
    "uhf42_data['id'] = uhf42_data['id'].astype(int)\n",
    "\n",
    "# Function to be applied on the dataset to find the corresponding UHF42 of a given geometry\n",
    "def find_uhf42(row):\n",
    "    for _, uhf42_row in uhf42_data.iterrows():\n",
    "        if row['geometry'].within(uhf42_row['geometry']):\n",
    "            return uhf42_row['id']\n",
    "    return None\n",
    "\n",
    "traffic_df['UHF42'] = traffic_df.apply(find_uhf42, axis=1)\n",
    "\n",
    "# Drop NaN values of UHF42 (that could not been found) and convert UHF42 column into int\n",
    "traffic_df.dropna(subset=['UHF42'], inplace=True)\n",
    "traffic_df['UHF42'] = traffic_df['UHF42'].astype(int)\n",
    "traffic_df.drop(traffic_df[traffic_df['UHF42'] == 0].index, inplace=True)\n",
    "\n",
    "# Drop unnecessary columns\n",
    "traffic_df.drop(['RequestID', 'Boro', 'Yr', 'SegmentID', 'WktGeom', 'street', 'fromSt', 'toSt', 'Direction', 'geometry'], axis=1, inplace=True)\n",
    "\n",
    "# Group by UHF42 and calculate mean traffic\n",
    "traffic_df = traffic_df.groupby([\"UHF42\"])['Vol'].mean().reset_index()\n",
    "traffic_df.rename(columns={'Vol': 'traffic volume'}, inplace=True)"
   ],
   "metadata": {
    "collapsed": false,
    "ExecuteTime": {
     "end_time": "2024-02-18T11:10:42.785644300Z",
     "start_time": "2024-02-18T11:08:45.340772700Z"
    }
   },
   "execution_count": 11
  },
  {
   "cell_type": "code",
   "outputs": [
    {
     "data": {
      "text/plain": "    UHF42  traffic volume\n0     101      104.625229\n1     102      104.812212\n2     103       96.396747\n3     104      102.807893\n4     105       91.613596\n5     106       75.994612\n6     107       86.785480\n7     201       77.877853\n8     202       80.952125\n9     203       75.367312\n10    204      100.890359\n11    205       80.246522\n12    206       70.208810\n13    207       74.189249\n14    208       73.482482\n15    209       76.658982\n16    210       62.723648\n17    211       47.901627\n18    301       75.341668\n19    302       85.022505\n20    303      132.455900\n21    304      135.035542\n22    305      184.745615\n23    306      166.163106\n24    307      192.639380\n25    308      139.356859\n26    309      109.928747\n27    310       81.232357\n28    401       72.777509\n29    402       85.539493\n30    403       89.312623\n31    404      128.157725\n32    405       90.396441\n33    406       70.982273\n34    407       88.095521\n35    408       82.421973\n36    409      144.788235\n37    410       59.075677\n38    501       57.778114\n39    502       72.028094\n40    503       88.541429\n41    504       67.438304",
      "text/html": "<div>\n<style scoped>\n    .dataframe tbody tr th:only-of-type {\n        vertical-align: middle;\n    }\n\n    .dataframe tbody tr th {\n        vertical-align: top;\n    }\n\n    .dataframe thead th {\n        text-align: right;\n    }\n</style>\n<table border=\"1\" class=\"dataframe\">\n  <thead>\n    <tr style=\"text-align: right;\">\n      <th></th>\n      <th>UHF42</th>\n      <th>traffic volume</th>\n    </tr>\n  </thead>\n  <tbody>\n    <tr>\n      <th>0</th>\n      <td>101</td>\n      <td>104.625229</td>\n    </tr>\n    <tr>\n      <th>1</th>\n      <td>102</td>\n      <td>104.812212</td>\n    </tr>\n    <tr>\n      <th>2</th>\n      <td>103</td>\n      <td>96.396747</td>\n    </tr>\n    <tr>\n      <th>3</th>\n      <td>104</td>\n      <td>102.807893</td>\n    </tr>\n    <tr>\n      <th>4</th>\n      <td>105</td>\n      <td>91.613596</td>\n    </tr>\n    <tr>\n      <th>5</th>\n      <td>106</td>\n      <td>75.994612</td>\n    </tr>\n    <tr>\n      <th>6</th>\n      <td>107</td>\n      <td>86.785480</td>\n    </tr>\n    <tr>\n      <th>7</th>\n      <td>201</td>\n      <td>77.877853</td>\n    </tr>\n    <tr>\n      <th>8</th>\n      <td>202</td>\n      <td>80.952125</td>\n    </tr>\n    <tr>\n      <th>9</th>\n      <td>203</td>\n      <td>75.367312</td>\n    </tr>\n    <tr>\n      <th>10</th>\n      <td>204</td>\n      <td>100.890359</td>\n    </tr>\n    <tr>\n      <th>11</th>\n      <td>205</td>\n      <td>80.246522</td>\n    </tr>\n    <tr>\n      <th>12</th>\n      <td>206</td>\n      <td>70.208810</td>\n    </tr>\n    <tr>\n      <th>13</th>\n      <td>207</td>\n      <td>74.189249</td>\n    </tr>\n    <tr>\n      <th>14</th>\n      <td>208</td>\n      <td>73.482482</td>\n    </tr>\n    <tr>\n      <th>15</th>\n      <td>209</td>\n      <td>76.658982</td>\n    </tr>\n    <tr>\n      <th>16</th>\n      <td>210</td>\n      <td>62.723648</td>\n    </tr>\n    <tr>\n      <th>17</th>\n      <td>211</td>\n      <td>47.901627</td>\n    </tr>\n    <tr>\n      <th>18</th>\n      <td>301</td>\n      <td>75.341668</td>\n    </tr>\n    <tr>\n      <th>19</th>\n      <td>302</td>\n      <td>85.022505</td>\n    </tr>\n    <tr>\n      <th>20</th>\n      <td>303</td>\n      <td>132.455900</td>\n    </tr>\n    <tr>\n      <th>21</th>\n      <td>304</td>\n      <td>135.035542</td>\n    </tr>\n    <tr>\n      <th>22</th>\n      <td>305</td>\n      <td>184.745615</td>\n    </tr>\n    <tr>\n      <th>23</th>\n      <td>306</td>\n      <td>166.163106</td>\n    </tr>\n    <tr>\n      <th>24</th>\n      <td>307</td>\n      <td>192.639380</td>\n    </tr>\n    <tr>\n      <th>25</th>\n      <td>308</td>\n      <td>139.356859</td>\n    </tr>\n    <tr>\n      <th>26</th>\n      <td>309</td>\n      <td>109.928747</td>\n    </tr>\n    <tr>\n      <th>27</th>\n      <td>310</td>\n      <td>81.232357</td>\n    </tr>\n    <tr>\n      <th>28</th>\n      <td>401</td>\n      <td>72.777509</td>\n    </tr>\n    <tr>\n      <th>29</th>\n      <td>402</td>\n      <td>85.539493</td>\n    </tr>\n    <tr>\n      <th>30</th>\n      <td>403</td>\n      <td>89.312623</td>\n    </tr>\n    <tr>\n      <th>31</th>\n      <td>404</td>\n      <td>128.157725</td>\n    </tr>\n    <tr>\n      <th>32</th>\n      <td>405</td>\n      <td>90.396441</td>\n    </tr>\n    <tr>\n      <th>33</th>\n      <td>406</td>\n      <td>70.982273</td>\n    </tr>\n    <tr>\n      <th>34</th>\n      <td>407</td>\n      <td>88.095521</td>\n    </tr>\n    <tr>\n      <th>35</th>\n      <td>408</td>\n      <td>82.421973</td>\n    </tr>\n    <tr>\n      <th>36</th>\n      <td>409</td>\n      <td>144.788235</td>\n    </tr>\n    <tr>\n      <th>37</th>\n      <td>410</td>\n      <td>59.075677</td>\n    </tr>\n    <tr>\n      <th>38</th>\n      <td>501</td>\n      <td>57.778114</td>\n    </tr>\n    <tr>\n      <th>39</th>\n      <td>502</td>\n      <td>72.028094</td>\n    </tr>\n    <tr>\n      <th>40</th>\n      <td>503</td>\n      <td>88.541429</td>\n    </tr>\n    <tr>\n      <th>41</th>\n      <td>504</td>\n      <td>67.438304</td>\n    </tr>\n  </tbody>\n</table>\n</div>"
     },
     "execution_count": 12,
     "metadata": {},
     "output_type": "execute_result"
    }
   ],
   "source": [
    "traffic_df"
   ],
   "metadata": {
    "collapsed": false,
    "ExecuteTime": {
     "end_time": "2024-02-18T11:10:42.819489700Z",
     "start_time": "2024-02-18T11:10:42.795644500Z"
    }
   },
   "execution_count": 12
  },
  {
   "cell_type": "markdown",
   "source": [
    "### b. Poverty data"
   ],
   "metadata": {
    "collapsed": false
   }
  },
  {
   "cell_type": "markdown",
   "source": [
    "We made an assumption that socio-economic factors may influence health outcomes, so we included data on poverty also obtained from [NYC Government Open Data](https://a816-dohbesp.nyc.gov/IndicatorPublic/data-explorer/economic-conditions/?id=103&fbclid=IwAR23HtmQWzd6-LhBlWnOq8VxLbNb2Gp1omKIlstQDZYc8G75_wut8eSq6RI#display=summary), covering the years from 2017 to 2021."
   ],
   "metadata": {
    "collapsed": false
   }
  },
  {
   "cell_type": "code",
   "outputs": [],
   "source": [
    "path_file = os.path.join('data', 'NYC EH Data Portal - Neighborhood poverty (filtered).csv')\n",
    "poverty_df = pd.read_csv(path_file)"
   ],
   "metadata": {
    "collapsed": false,
    "ExecuteTime": {
     "end_time": "2024-02-18T11:10:42.862483700Z",
     "start_time": "2024-02-18T11:10:42.813369900Z"
    }
   },
   "execution_count": 13
  },
  {
   "cell_type": "code",
   "outputs": [],
   "source": [
    "# keep only UHF42\n",
    "poverty_df = poverty_df.loc[(poverty_df['GeoTypeDesc'] == 'UHF 42')]\n",
    "\n",
    "# Drop some unnecessary columns\n",
    "poverty_df.drop(['TimePeriod','GeoTypeDesc','GeoRank','Geography','Number'], axis=1, inplace=True)\n",
    "poverty_df.rename(columns={'GeoID': 'UHF42', 'Percent' : 'poverty'}, inplace=True)"
   ],
   "metadata": {
    "collapsed": false,
    "ExecuteTime": {
     "end_time": "2024-02-18T11:10:42.914330200Z",
     "start_time": "2024-02-18T11:10:42.834715900Z"
    }
   },
   "execution_count": 14
  },
  {
   "cell_type": "code",
   "outputs": [
    {
     "data": {
      "text/plain": "    UHF42  poverty\n6     101     16.2\n7     102     14.8\n8     103     27.7\n9     104     20.3\n10    105     33.6\n11    106     35.8\n12    107     36.3\n13    201     17.1\n14    202     13.7\n15    203     21.6\n16    204     24.3\n17    205     20.8\n18    206     21.8\n19    207     13.3\n20    208     11.6\n21    209     14.4\n22    210     18.7\n23    211     27.1\n24    301     18.4\n25    302     23.9\n26    303     31.9\n27    304     11.0\n28    305      6.8\n29    306     11.9\n30    307      7.9\n31    308      9.4\n32    309     22.0\n33    310      9.6\n34    401     11.0\n35    402     12.5\n36    403     14.1\n37    404      7.8\n38    405      9.1\n39    406     11.5\n40    407     10.4\n41    408     12.0\n42    409      6.2\n43    410     18.0\n44    501     17.0\n45    502     13.1\n46    503      9.3\n47    504      6.7",
      "text/html": "<div>\n<style scoped>\n    .dataframe tbody tr th:only-of-type {\n        vertical-align: middle;\n    }\n\n    .dataframe tbody tr th {\n        vertical-align: top;\n    }\n\n    .dataframe thead th {\n        text-align: right;\n    }\n</style>\n<table border=\"1\" class=\"dataframe\">\n  <thead>\n    <tr style=\"text-align: right;\">\n      <th></th>\n      <th>UHF42</th>\n      <th>poverty</th>\n    </tr>\n  </thead>\n  <tbody>\n    <tr>\n      <th>6</th>\n      <td>101</td>\n      <td>16.2</td>\n    </tr>\n    <tr>\n      <th>7</th>\n      <td>102</td>\n      <td>14.8</td>\n    </tr>\n    <tr>\n      <th>8</th>\n      <td>103</td>\n      <td>27.7</td>\n    </tr>\n    <tr>\n      <th>9</th>\n      <td>104</td>\n      <td>20.3</td>\n    </tr>\n    <tr>\n      <th>10</th>\n      <td>105</td>\n      <td>33.6</td>\n    </tr>\n    <tr>\n      <th>11</th>\n      <td>106</td>\n      <td>35.8</td>\n    </tr>\n    <tr>\n      <th>12</th>\n      <td>107</td>\n      <td>36.3</td>\n    </tr>\n    <tr>\n      <th>13</th>\n      <td>201</td>\n      <td>17.1</td>\n    </tr>\n    <tr>\n      <th>14</th>\n      <td>202</td>\n      <td>13.7</td>\n    </tr>\n    <tr>\n      <th>15</th>\n      <td>203</td>\n      <td>21.6</td>\n    </tr>\n    <tr>\n      <th>16</th>\n      <td>204</td>\n      <td>24.3</td>\n    </tr>\n    <tr>\n      <th>17</th>\n      <td>205</td>\n      <td>20.8</td>\n    </tr>\n    <tr>\n      <th>18</th>\n      <td>206</td>\n      <td>21.8</td>\n    </tr>\n    <tr>\n      <th>19</th>\n      <td>207</td>\n      <td>13.3</td>\n    </tr>\n    <tr>\n      <th>20</th>\n      <td>208</td>\n      <td>11.6</td>\n    </tr>\n    <tr>\n      <th>21</th>\n      <td>209</td>\n      <td>14.4</td>\n    </tr>\n    <tr>\n      <th>22</th>\n      <td>210</td>\n      <td>18.7</td>\n    </tr>\n    <tr>\n      <th>23</th>\n      <td>211</td>\n      <td>27.1</td>\n    </tr>\n    <tr>\n      <th>24</th>\n      <td>301</td>\n      <td>18.4</td>\n    </tr>\n    <tr>\n      <th>25</th>\n      <td>302</td>\n      <td>23.9</td>\n    </tr>\n    <tr>\n      <th>26</th>\n      <td>303</td>\n      <td>31.9</td>\n    </tr>\n    <tr>\n      <th>27</th>\n      <td>304</td>\n      <td>11.0</td>\n    </tr>\n    <tr>\n      <th>28</th>\n      <td>305</td>\n      <td>6.8</td>\n    </tr>\n    <tr>\n      <th>29</th>\n      <td>306</td>\n      <td>11.9</td>\n    </tr>\n    <tr>\n      <th>30</th>\n      <td>307</td>\n      <td>7.9</td>\n    </tr>\n    <tr>\n      <th>31</th>\n      <td>308</td>\n      <td>9.4</td>\n    </tr>\n    <tr>\n      <th>32</th>\n      <td>309</td>\n      <td>22.0</td>\n    </tr>\n    <tr>\n      <th>33</th>\n      <td>310</td>\n      <td>9.6</td>\n    </tr>\n    <tr>\n      <th>34</th>\n      <td>401</td>\n      <td>11.0</td>\n    </tr>\n    <tr>\n      <th>35</th>\n      <td>402</td>\n      <td>12.5</td>\n    </tr>\n    <tr>\n      <th>36</th>\n      <td>403</td>\n      <td>14.1</td>\n    </tr>\n    <tr>\n      <th>37</th>\n      <td>404</td>\n      <td>7.8</td>\n    </tr>\n    <tr>\n      <th>38</th>\n      <td>405</td>\n      <td>9.1</td>\n    </tr>\n    <tr>\n      <th>39</th>\n      <td>406</td>\n      <td>11.5</td>\n    </tr>\n    <tr>\n      <th>40</th>\n      <td>407</td>\n      <td>10.4</td>\n    </tr>\n    <tr>\n      <th>41</th>\n      <td>408</td>\n      <td>12.0</td>\n    </tr>\n    <tr>\n      <th>42</th>\n      <td>409</td>\n      <td>6.2</td>\n    </tr>\n    <tr>\n      <th>43</th>\n      <td>410</td>\n      <td>18.0</td>\n    </tr>\n    <tr>\n      <th>44</th>\n      <td>501</td>\n      <td>17.0</td>\n    </tr>\n    <tr>\n      <th>45</th>\n      <td>502</td>\n      <td>13.1</td>\n    </tr>\n    <tr>\n      <th>46</th>\n      <td>503</td>\n      <td>9.3</td>\n    </tr>\n    <tr>\n      <th>47</th>\n      <td>504</td>\n      <td>6.7</td>\n    </tr>\n  </tbody>\n</table>\n</div>"
     },
     "execution_count": 15,
     "metadata": {},
     "output_type": "execute_result"
    }
   ],
   "source": [
    "poverty_df"
   ],
   "metadata": {
    "collapsed": false,
    "ExecuteTime": {
     "end_time": "2024-02-18T11:10:42.975299600Z",
     "start_time": "2024-02-18T11:10:42.844948Z"
    }
   },
   "execution_count": 15
  },
  {
   "cell_type": "markdown",
   "source": [
    "### c. Parks data"
   ],
   "metadata": {
    "collapsed": false
   }
  },
  {
   "cell_type": "markdown",
   "source": [
    "Additionally, parks have a significant role in improving air quality. So, we added a dataset mapping the distribution of parks across NY from [NYC Government Open Data](https://data.cityofnewyork.us/Recreation/Parks-Properties-Map/krz2-j7bn)."
   ],
   "metadata": {
    "collapsed": false
   }
  },
  {
   "cell_type": "code",
   "outputs": [],
   "source": [
    "path_file = os.path.join('data', 'Parks_Properties_20240210.csv')\n",
    "parks_df = pd.read_csv(path_file)"
   ],
   "metadata": {
    "collapsed": false,
    "ExecuteTime": {
     "end_time": "2024-02-18T11:10:43.050946400Z",
     "start_time": "2024-02-18T11:10:42.863484900Z"
    }
   },
   "execution_count": 16
  },
  {
   "cell_type": "code",
   "outputs": [],
   "source": [
    "parks_df = parks_df[['ACRES', 'ZIPCODE']]\n",
    "\n",
    "#ZIPCODE column may contain multiple zip codes if the park is large\n",
    "parks_df = parks_df[parks_df['ZIPCODE'].str.len() % 5 == 0]\n",
    "\n",
    "# this function seperates all the zipcodes\n",
    "def split_zipcode(zipcode):\n",
    "    return [zipcode[i:i+5] for i in range(0, len(zipcode), 5)]\n",
    "\n",
    "new_rows = []\n",
    "for index, row in parks_df.iterrows():\n",
    "    zipcode = str(row['ZIPCODE'])\n",
    "    if len(zipcode) > 5 :\n",
    "        sub_zipcodes = split_zipcode(zipcode)\n",
    "        acres_per_sub_zip = row['ACRES'] / len(sub_zipcodes)\n",
    "        for sub_zip in sub_zipcodes:\n",
    "            new_rows.append({'ZIPCODE': sub_zip, 'ACRES': acres_per_sub_zip})\n",
    "\n",
    "new_data = pd.DataFrame(new_rows)\n",
    "parks_df = pd.concat([parks_df, new_data], ignore_index=True)\n",
    "parks_df = parks_df[parks_df['ZIPCODE'].str.len() <= 5]\n",
    "parks_df['ZIPCODE'] = parks_df['ZIPCODE'].astype(int)"
   ],
   "metadata": {
    "collapsed": false,
    "ExecuteTime": {
     "end_time": "2024-02-18T11:10:43.307792900Z",
     "start_time": "2024-02-18T11:10:43.003493500Z"
    }
   },
   "execution_count": 17
  },
  {
   "cell_type": "code",
   "outputs": [],
   "source": [
    "# Mapping a zipcode into a UHF42\n",
    "parks_df['UHF42'] = parks_df['ZIPCODE'].apply(map_zipcode_to_uhf)\n",
    "parks_df.drop(['ZIPCODE'], axis=1, inplace=True)\n",
    "parks_df.dropna(subset=['UHF42'])\n",
    "\n",
    "# counting the number of parks in each UHF42\n",
    "parks_df = parks_df.groupby('UHF42')['ACRES'].sum().reset_index()\n",
    "parks_df.rename(columns={'ACRES': 'parks superficy'}, inplace=True)"
   ],
   "metadata": {
    "collapsed": false,
    "ExecuteTime": {
     "end_time": "2024-02-18T11:10:43.379355600Z",
     "start_time": "2024-02-18T11:10:43.269411900Z"
    }
   },
   "execution_count": 18
  },
  {
   "cell_type": "code",
   "outputs": [
    {
     "data": {
      "text/plain": "    UHF42  parks superficy\n0   101.0       510.749500\n1   102.0      2073.038095\n2   103.0       831.405833\n3   104.0      2193.195298\n4   105.0       431.531417\n5   106.0       232.747286\n6   107.0       145.922000\n7   201.0       135.207000\n8   202.0       773.623667\n9   203.0       248.416133\n10  204.0       259.601667\n11  205.0        97.485000\n12  206.0        98.456000\n13  207.0        85.345200\n14  208.0       789.372000\n15  209.0       426.237000\n16  210.0      1190.542333\n17  211.0        51.600000\n18  301.0       663.116143\n19  302.0       156.933571\n20  303.0       482.604429\n21  304.0      1175.351500\n22  305.0        63.637152\n23  306.0        79.501167\n24  307.0        26.383429\n25  308.0        28.240000\n26  309.0       124.493000\n27  310.0        57.738333\n28  401.0       233.028140\n29  402.0       520.225929\n30  403.0      1050.550000\n31  404.0       877.902533\n32  405.0       501.589810\n33  406.0       604.097643\n34  407.0       483.647133\n35  408.0       533.829656\n36  409.0       783.301033\n37  410.0      1719.445232\n38  501.0       530.980000\n39  502.0      1202.058543\n40  503.0      2070.784843\n41  504.0      3871.016750",
      "text/html": "<div>\n<style scoped>\n    .dataframe tbody tr th:only-of-type {\n        vertical-align: middle;\n    }\n\n    .dataframe tbody tr th {\n        vertical-align: top;\n    }\n\n    .dataframe thead th {\n        text-align: right;\n    }\n</style>\n<table border=\"1\" class=\"dataframe\">\n  <thead>\n    <tr style=\"text-align: right;\">\n      <th></th>\n      <th>UHF42</th>\n      <th>parks superficy</th>\n    </tr>\n  </thead>\n  <tbody>\n    <tr>\n      <th>0</th>\n      <td>101.0</td>\n      <td>510.749500</td>\n    </tr>\n    <tr>\n      <th>1</th>\n      <td>102.0</td>\n      <td>2073.038095</td>\n    </tr>\n    <tr>\n      <th>2</th>\n      <td>103.0</td>\n      <td>831.405833</td>\n    </tr>\n    <tr>\n      <th>3</th>\n      <td>104.0</td>\n      <td>2193.195298</td>\n    </tr>\n    <tr>\n      <th>4</th>\n      <td>105.0</td>\n      <td>431.531417</td>\n    </tr>\n    <tr>\n      <th>5</th>\n      <td>106.0</td>\n      <td>232.747286</td>\n    </tr>\n    <tr>\n      <th>6</th>\n      <td>107.0</td>\n      <td>145.922000</td>\n    </tr>\n    <tr>\n      <th>7</th>\n      <td>201.0</td>\n      <td>135.207000</td>\n    </tr>\n    <tr>\n      <th>8</th>\n      <td>202.0</td>\n      <td>773.623667</td>\n    </tr>\n    <tr>\n      <th>9</th>\n      <td>203.0</td>\n      <td>248.416133</td>\n    </tr>\n    <tr>\n      <th>10</th>\n      <td>204.0</td>\n      <td>259.601667</td>\n    </tr>\n    <tr>\n      <th>11</th>\n      <td>205.0</td>\n      <td>97.485000</td>\n    </tr>\n    <tr>\n      <th>12</th>\n      <td>206.0</td>\n      <td>98.456000</td>\n    </tr>\n    <tr>\n      <th>13</th>\n      <td>207.0</td>\n      <td>85.345200</td>\n    </tr>\n    <tr>\n      <th>14</th>\n      <td>208.0</td>\n      <td>789.372000</td>\n    </tr>\n    <tr>\n      <th>15</th>\n      <td>209.0</td>\n      <td>426.237000</td>\n    </tr>\n    <tr>\n      <th>16</th>\n      <td>210.0</td>\n      <td>1190.542333</td>\n    </tr>\n    <tr>\n      <th>17</th>\n      <td>211.0</td>\n      <td>51.600000</td>\n    </tr>\n    <tr>\n      <th>18</th>\n      <td>301.0</td>\n      <td>663.116143</td>\n    </tr>\n    <tr>\n      <th>19</th>\n      <td>302.0</td>\n      <td>156.933571</td>\n    </tr>\n    <tr>\n      <th>20</th>\n      <td>303.0</td>\n      <td>482.604429</td>\n    </tr>\n    <tr>\n      <th>21</th>\n      <td>304.0</td>\n      <td>1175.351500</td>\n    </tr>\n    <tr>\n      <th>22</th>\n      <td>305.0</td>\n      <td>63.637152</td>\n    </tr>\n    <tr>\n      <th>23</th>\n      <td>306.0</td>\n      <td>79.501167</td>\n    </tr>\n    <tr>\n      <th>24</th>\n      <td>307.0</td>\n      <td>26.383429</td>\n    </tr>\n    <tr>\n      <th>25</th>\n      <td>308.0</td>\n      <td>28.240000</td>\n    </tr>\n    <tr>\n      <th>26</th>\n      <td>309.0</td>\n      <td>124.493000</td>\n    </tr>\n    <tr>\n      <th>27</th>\n      <td>310.0</td>\n      <td>57.738333</td>\n    </tr>\n    <tr>\n      <th>28</th>\n      <td>401.0</td>\n      <td>233.028140</td>\n    </tr>\n    <tr>\n      <th>29</th>\n      <td>402.0</td>\n      <td>520.225929</td>\n    </tr>\n    <tr>\n      <th>30</th>\n      <td>403.0</td>\n      <td>1050.550000</td>\n    </tr>\n    <tr>\n      <th>31</th>\n      <td>404.0</td>\n      <td>877.902533</td>\n    </tr>\n    <tr>\n      <th>32</th>\n      <td>405.0</td>\n      <td>501.589810</td>\n    </tr>\n    <tr>\n      <th>33</th>\n      <td>406.0</td>\n      <td>604.097643</td>\n    </tr>\n    <tr>\n      <th>34</th>\n      <td>407.0</td>\n      <td>483.647133</td>\n    </tr>\n    <tr>\n      <th>35</th>\n      <td>408.0</td>\n      <td>533.829656</td>\n    </tr>\n    <tr>\n      <th>36</th>\n      <td>409.0</td>\n      <td>783.301033</td>\n    </tr>\n    <tr>\n      <th>37</th>\n      <td>410.0</td>\n      <td>1719.445232</td>\n    </tr>\n    <tr>\n      <th>38</th>\n      <td>501.0</td>\n      <td>530.980000</td>\n    </tr>\n    <tr>\n      <th>39</th>\n      <td>502.0</td>\n      <td>1202.058543</td>\n    </tr>\n    <tr>\n      <th>40</th>\n      <td>503.0</td>\n      <td>2070.784843</td>\n    </tr>\n    <tr>\n      <th>41</th>\n      <td>504.0</td>\n      <td>3871.016750</td>\n    </tr>\n  </tbody>\n</table>\n</div>"
     },
     "execution_count": 19,
     "metadata": {},
     "output_type": "execute_result"
    }
   ],
   "source": [
    "parks_df"
   ],
   "metadata": {
    "collapsed": false,
    "ExecuteTime": {
     "end_time": "2024-02-18T11:10:43.396164400Z",
     "start_time": "2024-02-18T11:10:43.333498400Z"
    }
   },
   "execution_count": 19
  },
  {
   "cell_type": "markdown",
   "source": [
    "### d. Restaurants data"
   ],
   "metadata": {
    "collapsed": false
   }
  },
  {
   "cell_type": "markdown",
   "source": [
    "According to the [National Emissions Inventory](https://www.epa.gov/air-emissions-inventories/national-emissions-inventory-nei), there is a significant rise in emissions from commercial cooking. Thus, we integrated a dataset containing restaurant distribution in NY neighborhoods from [NYC Government Open Data](https://data.cityofnewyork.us/Health/DOHMH-New-York-City-Restaurant-Inspection-Results/43nn-pn8j)."
   ],
   "metadata": {
    "collapsed": false
   }
  },
  {
   "cell_type": "code",
   "outputs": [],
   "source": [
    "path_file = os.path.join('data', 'DOHMH_New_York_City_Restaurant_Inspection_Results_20240210.csv')\n",
    "restaurants_df = pd.read_csv(path_file)"
   ],
   "metadata": {
    "collapsed": false,
    "ExecuteTime": {
     "end_time": "2024-02-18T11:10:45.536359600Z",
     "start_time": "2024-02-18T11:10:43.355054900Z"
    }
   },
   "execution_count": 20
  },
  {
   "cell_type": "code",
   "outputs": [],
   "source": [
    "# Mapping a zipcode into a UHF42\n",
    "restaurants_df['UHF42'] = restaurants_df['ZIPCODE'].apply(map_zipcode_to_uhf)\n",
    "restaurants_df.dropna(subset=['UHF42'])\n",
    "restaurants_df = restaurants_df['UHF42'].value_counts().reset_index()\n",
    "restaurants_df.columns = ['UHF42', 'number of restaurants']"
   ],
   "metadata": {
    "collapsed": false,
    "ExecuteTime": {
     "end_time": "2024-02-18T11:10:48.436557500Z",
     "start_time": "2024-02-18T11:10:45.543332500Z"
    }
   },
   "execution_count": 21
  },
  {
   "cell_type": "code",
   "outputs": [
    {
     "data": {
      "text/plain": "    UHF42  number of restaurants\n0   306.0                  19047\n1   309.0                  11314\n2   308.0                  11223\n3   402.0                  11183\n4   202.0                  10918\n5   307.0                  10420\n6   401.0                   8729\n7   403.0                   8401\n8   203.0                   6420\n9   207.0                   5480\n10  304.0                   5192\n11  408.0                   5128\n12  407.0                   5091\n13  405.0                   5046\n14  209.0                   5032\n15  310.0                   4864\n16  210.0                   4809\n17  201.0                   4792\n18  206.0                   4686\n19  301.0                   4617\n20  205.0                   4520\n21  211.0                   4424\n22  104.0                   4238\n23  305.0                   3895\n24  103.0                   3609\n25  208.0                   2774\n26  504.0                   2618\n27  102.0                   2580\n28  106.0                   2517\n29  107.0                   2492\n30  204.0                   2421\n31  302.0                   2382\n32  303.0                   2376\n33  409.0                   2374\n34  404.0                   2131\n35  502.0                   2040\n36  105.0                   2014\n37  503.0                   1535\n38  501.0                   1405\n39  406.0                   1360\n40  101.0                   1252\n41  410.0                    877",
      "text/html": "<div>\n<style scoped>\n    .dataframe tbody tr th:only-of-type {\n        vertical-align: middle;\n    }\n\n    .dataframe tbody tr th {\n        vertical-align: top;\n    }\n\n    .dataframe thead th {\n        text-align: right;\n    }\n</style>\n<table border=\"1\" class=\"dataframe\">\n  <thead>\n    <tr style=\"text-align: right;\">\n      <th></th>\n      <th>UHF42</th>\n      <th>number of restaurants</th>\n    </tr>\n  </thead>\n  <tbody>\n    <tr>\n      <th>0</th>\n      <td>306.0</td>\n      <td>19047</td>\n    </tr>\n    <tr>\n      <th>1</th>\n      <td>309.0</td>\n      <td>11314</td>\n    </tr>\n    <tr>\n      <th>2</th>\n      <td>308.0</td>\n      <td>11223</td>\n    </tr>\n    <tr>\n      <th>3</th>\n      <td>402.0</td>\n      <td>11183</td>\n    </tr>\n    <tr>\n      <th>4</th>\n      <td>202.0</td>\n      <td>10918</td>\n    </tr>\n    <tr>\n      <th>5</th>\n      <td>307.0</td>\n      <td>10420</td>\n    </tr>\n    <tr>\n      <th>6</th>\n      <td>401.0</td>\n      <td>8729</td>\n    </tr>\n    <tr>\n      <th>7</th>\n      <td>403.0</td>\n      <td>8401</td>\n    </tr>\n    <tr>\n      <th>8</th>\n      <td>203.0</td>\n      <td>6420</td>\n    </tr>\n    <tr>\n      <th>9</th>\n      <td>207.0</td>\n      <td>5480</td>\n    </tr>\n    <tr>\n      <th>10</th>\n      <td>304.0</td>\n      <td>5192</td>\n    </tr>\n    <tr>\n      <th>11</th>\n      <td>408.0</td>\n      <td>5128</td>\n    </tr>\n    <tr>\n      <th>12</th>\n      <td>407.0</td>\n      <td>5091</td>\n    </tr>\n    <tr>\n      <th>13</th>\n      <td>405.0</td>\n      <td>5046</td>\n    </tr>\n    <tr>\n      <th>14</th>\n      <td>209.0</td>\n      <td>5032</td>\n    </tr>\n    <tr>\n      <th>15</th>\n      <td>310.0</td>\n      <td>4864</td>\n    </tr>\n    <tr>\n      <th>16</th>\n      <td>210.0</td>\n      <td>4809</td>\n    </tr>\n    <tr>\n      <th>17</th>\n      <td>201.0</td>\n      <td>4792</td>\n    </tr>\n    <tr>\n      <th>18</th>\n      <td>206.0</td>\n      <td>4686</td>\n    </tr>\n    <tr>\n      <th>19</th>\n      <td>301.0</td>\n      <td>4617</td>\n    </tr>\n    <tr>\n      <th>20</th>\n      <td>205.0</td>\n      <td>4520</td>\n    </tr>\n    <tr>\n      <th>21</th>\n      <td>211.0</td>\n      <td>4424</td>\n    </tr>\n    <tr>\n      <th>22</th>\n      <td>104.0</td>\n      <td>4238</td>\n    </tr>\n    <tr>\n      <th>23</th>\n      <td>305.0</td>\n      <td>3895</td>\n    </tr>\n    <tr>\n      <th>24</th>\n      <td>103.0</td>\n      <td>3609</td>\n    </tr>\n    <tr>\n      <th>25</th>\n      <td>208.0</td>\n      <td>2774</td>\n    </tr>\n    <tr>\n      <th>26</th>\n      <td>504.0</td>\n      <td>2618</td>\n    </tr>\n    <tr>\n      <th>27</th>\n      <td>102.0</td>\n      <td>2580</td>\n    </tr>\n    <tr>\n      <th>28</th>\n      <td>106.0</td>\n      <td>2517</td>\n    </tr>\n    <tr>\n      <th>29</th>\n      <td>107.0</td>\n      <td>2492</td>\n    </tr>\n    <tr>\n      <th>30</th>\n      <td>204.0</td>\n      <td>2421</td>\n    </tr>\n    <tr>\n      <th>31</th>\n      <td>302.0</td>\n      <td>2382</td>\n    </tr>\n    <tr>\n      <th>32</th>\n      <td>303.0</td>\n      <td>2376</td>\n    </tr>\n    <tr>\n      <th>33</th>\n      <td>409.0</td>\n      <td>2374</td>\n    </tr>\n    <tr>\n      <th>34</th>\n      <td>404.0</td>\n      <td>2131</td>\n    </tr>\n    <tr>\n      <th>35</th>\n      <td>502.0</td>\n      <td>2040</td>\n    </tr>\n    <tr>\n      <th>36</th>\n      <td>105.0</td>\n      <td>2014</td>\n    </tr>\n    <tr>\n      <th>37</th>\n      <td>503.0</td>\n      <td>1535</td>\n    </tr>\n    <tr>\n      <th>38</th>\n      <td>501.0</td>\n      <td>1405</td>\n    </tr>\n    <tr>\n      <th>39</th>\n      <td>406.0</td>\n      <td>1360</td>\n    </tr>\n    <tr>\n      <th>40</th>\n      <td>101.0</td>\n      <td>1252</td>\n    </tr>\n    <tr>\n      <th>41</th>\n      <td>410.0</td>\n      <td>877</td>\n    </tr>\n  </tbody>\n</table>\n</div>"
     },
     "execution_count": 22,
     "metadata": {},
     "output_type": "execute_result"
    }
   ],
   "source": [
    "restaurants_df"
   ],
   "metadata": {
    "collapsed": false,
    "ExecuteTime": {
     "end_time": "2024-02-18T11:10:48.498558400Z",
     "start_time": "2024-02-18T11:10:48.442763300Z"
    }
   },
   "execution_count": 22
  },
  {
   "cell_type": "markdown",
   "source": [
    "### e. Building consumption data"
   ],
   "metadata": {
    "collapsed": false
   }
  },
  {
   "cell_type": "markdown",
   "source": [
    "Moreover, building heating are important in our study. So, we integrated data containing building energy consumption reported to the Environmental Protection Agency in 2016 from  [Kaggle](https://www.kaggle.com/datasets/claytonmiller/new-york-city-buildings-energy-consumption-survey?fbclid=IwAR26gcwjnmJIlwTzyQ9WDNeG0bRFUjtOM2r594mZRD_2WUVkVXXPiryrP_w)"
   ],
   "metadata": {
    "collapsed": false
   }
  },
  {
   "cell_type": "code",
   "outputs": [],
   "source": [
    "path_file = os.path.join('data', 'nyc_benchmarking_disclosure_data_reported_in_2016.xlsx')\n",
    "building_df = pd.read_excel(path_file, sheet_name=0)"
   ],
   "metadata": {
    "collapsed": false,
    "ExecuteTime": {
     "end_time": "2024-02-18T11:11:00.085883400Z",
     "start_time": "2024-02-18T11:10:48.479410500Z"
    }
   },
   "execution_count": 23
  },
  {
   "cell_type": "code",
   "outputs": [],
   "source": [
    "# extracting only interesting columns\n",
    "building_df = building_df[['Zip Code', \n",
    "                           'Natural Gas Use (kBtu)',\n",
    "                           'Total GHG Emissions (Metric Tons CO2e)']]\n",
    "\n",
    "# Creating a copy of the DataFrame\n",
    "building_df = building_df.copy()\n",
    "\n",
    "# Mapping a zipcode into a UHF42\n",
    "building_df['UHF42'] = building_df['Zip Code'].apply(map_zipcode_to_uhf)\n",
    "\n",
    "# Remove the 'Zip Code' column\n",
    "building_df.drop(columns=['Zip Code'], inplace=True)\n",
    "\n",
    "# Group by UHF42 and calculate mean traffic for each UHF42\n",
    "building_df = building_df.groupby([\"UHF42\"]).mean().reset_index()"
   ],
   "metadata": {
    "collapsed": false,
    "ExecuteTime": {
     "end_time": "2024-02-18T11:11:00.226100200Z",
     "start_time": "2024-02-18T11:11:00.093926900Z"
    }
   },
   "execution_count": 24
  },
  {
   "cell_type": "code",
   "outputs": [
    {
     "data": {
      "text/plain": "    UHF42  Natural Gas Use (kBtu)  Total GHG Emissions (Metric Tons CO2e)\n0   101.0            5.686365e+07                             3256.320818\n1   102.0            8.300407e+06                              882.632222\n2   103.0            4.003515e+06                              578.734061\n3   104.0            1.297178e+07                             1244.671250\n4   105.0            5.162494e+06                              625.539617\n5   106.0            6.319824e+06                              650.261364\n6   107.0            5.462431e+06                              497.035000\n7   201.0            7.392840e+08                            37093.683333\n8   202.0            8.219237e+06                              870.854452\n9   203.0            7.006118e+06                              608.898049\n10  204.0            7.869763e+06                              672.154717\n11  205.0            9.598443e+06                              922.244643\n12  206.0            6.146841e+06                              577.203270\n13  207.0            6.689590e+06                              777.033505\n14  208.0            5.658495e+06                              566.681250\n15  209.0            6.764239e+06                              517.004918\n16  210.0            1.031672e+07                              738.210165\n17  211.0            9.304654e+06                             1971.388119\n18  301.0            5.354082e+06                              752.424335\n19  302.0            7.760516e+06                             1080.817094\n20  303.0            1.835410e+07                             1900.714563\n21  304.0            5.359006e+06                             3109.620115\n22  305.0            5.410453e+06                             5843.193002\n23  306.0            6.342221e+06                             9451.883493\n24  307.0            4.515325e+06                            16939.802725\n25  308.0            7.920588e+06                             9235.226198\n26  309.0            6.667050e+06                             9988.388448\n27  310.0            7.273131e+06                            30769.152582\n28  401.0            4.235249e+06                              573.134386\n29  402.0            6.915217e+06                             1301.970975\n30  403.0            6.987744e+06                              824.788197\n31  404.0            1.020545e+07                              913.140741\n32  405.0            7.895148e+06                              706.039943\n33  406.0            1.555457e+07                             1218.748571\n34  407.0            6.563158e+06                             1190.442718\n35  408.0            1.360988e+07                             2858.310784\n36  409.0            2.404336e+09                           130837.131915\n37  410.0            1.198887e+07                              946.483333\n38  501.0            1.073135e+07                             1138.141176\n39  502.0            7.225622e+06                              782.264384\n40  503.0            6.650212e+06                             1181.289286\n41  504.0            9.909967e+06                             1053.016667",
      "text/html": "<div>\n<style scoped>\n    .dataframe tbody tr th:only-of-type {\n        vertical-align: middle;\n    }\n\n    .dataframe tbody tr th {\n        vertical-align: top;\n    }\n\n    .dataframe thead th {\n        text-align: right;\n    }\n</style>\n<table border=\"1\" class=\"dataframe\">\n  <thead>\n    <tr style=\"text-align: right;\">\n      <th></th>\n      <th>UHF42</th>\n      <th>Natural Gas Use (kBtu)</th>\n      <th>Total GHG Emissions (Metric Tons CO2e)</th>\n    </tr>\n  </thead>\n  <tbody>\n    <tr>\n      <th>0</th>\n      <td>101.0</td>\n      <td>5.686365e+07</td>\n      <td>3256.320818</td>\n    </tr>\n    <tr>\n      <th>1</th>\n      <td>102.0</td>\n      <td>8.300407e+06</td>\n      <td>882.632222</td>\n    </tr>\n    <tr>\n      <th>2</th>\n      <td>103.0</td>\n      <td>4.003515e+06</td>\n      <td>578.734061</td>\n    </tr>\n    <tr>\n      <th>3</th>\n      <td>104.0</td>\n      <td>1.297178e+07</td>\n      <td>1244.671250</td>\n    </tr>\n    <tr>\n      <th>4</th>\n      <td>105.0</td>\n      <td>5.162494e+06</td>\n      <td>625.539617</td>\n    </tr>\n    <tr>\n      <th>5</th>\n      <td>106.0</td>\n      <td>6.319824e+06</td>\n      <td>650.261364</td>\n    </tr>\n    <tr>\n      <th>6</th>\n      <td>107.0</td>\n      <td>5.462431e+06</td>\n      <td>497.035000</td>\n    </tr>\n    <tr>\n      <th>7</th>\n      <td>201.0</td>\n      <td>7.392840e+08</td>\n      <td>37093.683333</td>\n    </tr>\n    <tr>\n      <th>8</th>\n      <td>202.0</td>\n      <td>8.219237e+06</td>\n      <td>870.854452</td>\n    </tr>\n    <tr>\n      <th>9</th>\n      <td>203.0</td>\n      <td>7.006118e+06</td>\n      <td>608.898049</td>\n    </tr>\n    <tr>\n      <th>10</th>\n      <td>204.0</td>\n      <td>7.869763e+06</td>\n      <td>672.154717</td>\n    </tr>\n    <tr>\n      <th>11</th>\n      <td>205.0</td>\n      <td>9.598443e+06</td>\n      <td>922.244643</td>\n    </tr>\n    <tr>\n      <th>12</th>\n      <td>206.0</td>\n      <td>6.146841e+06</td>\n      <td>577.203270</td>\n    </tr>\n    <tr>\n      <th>13</th>\n      <td>207.0</td>\n      <td>6.689590e+06</td>\n      <td>777.033505</td>\n    </tr>\n    <tr>\n      <th>14</th>\n      <td>208.0</td>\n      <td>5.658495e+06</td>\n      <td>566.681250</td>\n    </tr>\n    <tr>\n      <th>15</th>\n      <td>209.0</td>\n      <td>6.764239e+06</td>\n      <td>517.004918</td>\n    </tr>\n    <tr>\n      <th>16</th>\n      <td>210.0</td>\n      <td>1.031672e+07</td>\n      <td>738.210165</td>\n    </tr>\n    <tr>\n      <th>17</th>\n      <td>211.0</td>\n      <td>9.304654e+06</td>\n      <td>1971.388119</td>\n    </tr>\n    <tr>\n      <th>18</th>\n      <td>301.0</td>\n      <td>5.354082e+06</td>\n      <td>752.424335</td>\n    </tr>\n    <tr>\n      <th>19</th>\n      <td>302.0</td>\n      <td>7.760516e+06</td>\n      <td>1080.817094</td>\n    </tr>\n    <tr>\n      <th>20</th>\n      <td>303.0</td>\n      <td>1.835410e+07</td>\n      <td>1900.714563</td>\n    </tr>\n    <tr>\n      <th>21</th>\n      <td>304.0</td>\n      <td>5.359006e+06</td>\n      <td>3109.620115</td>\n    </tr>\n    <tr>\n      <th>22</th>\n      <td>305.0</td>\n      <td>5.410453e+06</td>\n      <td>5843.193002</td>\n    </tr>\n    <tr>\n      <th>23</th>\n      <td>306.0</td>\n      <td>6.342221e+06</td>\n      <td>9451.883493</td>\n    </tr>\n    <tr>\n      <th>24</th>\n      <td>307.0</td>\n      <td>4.515325e+06</td>\n      <td>16939.802725</td>\n    </tr>\n    <tr>\n      <th>25</th>\n      <td>308.0</td>\n      <td>7.920588e+06</td>\n      <td>9235.226198</td>\n    </tr>\n    <tr>\n      <th>26</th>\n      <td>309.0</td>\n      <td>6.667050e+06</td>\n      <td>9988.388448</td>\n    </tr>\n    <tr>\n      <th>27</th>\n      <td>310.0</td>\n      <td>7.273131e+06</td>\n      <td>30769.152582</td>\n    </tr>\n    <tr>\n      <th>28</th>\n      <td>401.0</td>\n      <td>4.235249e+06</td>\n      <td>573.134386</td>\n    </tr>\n    <tr>\n      <th>29</th>\n      <td>402.0</td>\n      <td>6.915217e+06</td>\n      <td>1301.970975</td>\n    </tr>\n    <tr>\n      <th>30</th>\n      <td>403.0</td>\n      <td>6.987744e+06</td>\n      <td>824.788197</td>\n    </tr>\n    <tr>\n      <th>31</th>\n      <td>404.0</td>\n      <td>1.020545e+07</td>\n      <td>913.140741</td>\n    </tr>\n    <tr>\n      <th>32</th>\n      <td>405.0</td>\n      <td>7.895148e+06</td>\n      <td>706.039943</td>\n    </tr>\n    <tr>\n      <th>33</th>\n      <td>406.0</td>\n      <td>1.555457e+07</td>\n      <td>1218.748571</td>\n    </tr>\n    <tr>\n      <th>34</th>\n      <td>407.0</td>\n      <td>6.563158e+06</td>\n      <td>1190.442718</td>\n    </tr>\n    <tr>\n      <th>35</th>\n      <td>408.0</td>\n      <td>1.360988e+07</td>\n      <td>2858.310784</td>\n    </tr>\n    <tr>\n      <th>36</th>\n      <td>409.0</td>\n      <td>2.404336e+09</td>\n      <td>130837.131915</td>\n    </tr>\n    <tr>\n      <th>37</th>\n      <td>410.0</td>\n      <td>1.198887e+07</td>\n      <td>946.483333</td>\n    </tr>\n    <tr>\n      <th>38</th>\n      <td>501.0</td>\n      <td>1.073135e+07</td>\n      <td>1138.141176</td>\n    </tr>\n    <tr>\n      <th>39</th>\n      <td>502.0</td>\n      <td>7.225622e+06</td>\n      <td>782.264384</td>\n    </tr>\n    <tr>\n      <th>40</th>\n      <td>503.0</td>\n      <td>6.650212e+06</td>\n      <td>1181.289286</td>\n    </tr>\n    <tr>\n      <th>41</th>\n      <td>504.0</td>\n      <td>9.909967e+06</td>\n      <td>1053.016667</td>\n    </tr>\n  </tbody>\n</table>\n</div>"
     },
     "execution_count": 25,
     "metadata": {},
     "output_type": "execute_result"
    }
   ],
   "source": [
    "building_df"
   ],
   "metadata": {
    "collapsed": false,
    "ExecuteTime": {
     "end_time": "2024-02-18T11:11:00.248559800Z",
     "start_time": "2024-02-18T11:11:00.241929300Z"
    }
   },
   "execution_count": 25
  },
  {
   "cell_type": "markdown",
   "source": [
    "## 3. Merging datasets"
   ],
   "metadata": {
    "collapsed": false
   }
  },
  {
   "cell_type": "markdown",
   "source": [
    "We will merge all datasets based on UHF42 and sore it."
   ],
   "metadata": {
    "collapsed": false
   }
  },
  {
   "cell_type": "code",
   "outputs": [],
   "source": [
    "# Merge building_df with restaurants_df on 'UHF42'\n",
    "merged_df = pd.merge(building_df, restaurants_df, on='UHF42', how='left')\n",
    "\n",
    "# Merge merged_df with parks_df on 'UHF42'\n",
    "merged_df = pd.merge(merged_df, parks_df, on='UHF42', how='left')\n",
    "\n",
    "# Merge merged_df with poverty_df on 'UHF42'\n",
    "merged_df = pd.merge(merged_df, poverty_df, on='UHF42', how='left')\n",
    "\n",
    "# Merge merged_df with traffic_df on 'UHF42'\n",
    "merged_df = pd.merge(merged_df, traffic_df, on='UHF42', how='left')\n",
    "\n",
    "# Merge merged_df with air_quality_df on 'UHF42'\n",
    "merged_df = pd.merge(merged_df, air_quality_df_final, on='UHF42', how='left')"
   ],
   "metadata": {
    "collapsed": false,
    "ExecuteTime": {
     "end_time": "2024-02-18T11:11:00.288826100Z",
     "start_time": "2024-02-18T11:11:00.254528700Z"
    }
   },
   "execution_count": 26
  },
  {
   "cell_type": "code",
   "outputs": [],
   "source": [
    "path_file = os.path.join('data', 'full_dataset.csv')\n",
    "merged_df.to_csv(path_file)"
   ],
   "metadata": {
    "collapsed": false,
    "ExecuteTime": {
     "end_time": "2024-02-18T11:11:00.356317800Z",
     "start_time": "2024-02-18T11:11:00.274677700Z"
    }
   },
   "execution_count": 27
  }
 ],
 "metadata": {
  "kernelspec": {
   "display_name": "base",
   "language": "python",
   "name": "python3"
  },
  "language_info": {
   "codemirror_mode": {
    "name": "ipython",
    "version": 3
   },
   "file_extension": ".py",
   "mimetype": "text/x-python",
   "name": "python",
   "nbconvert_exporter": "python",
   "pygments_lexer": "ipython3",
   "version": "3.8.3"
  }
 },
 "nbformat": 4,
 "nbformat_minor": 2
}
