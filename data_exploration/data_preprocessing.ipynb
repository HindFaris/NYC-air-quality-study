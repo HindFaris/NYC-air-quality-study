{
 "cells": [
  {
   "cell_type": "markdown",
   "source": [
    "# Data preprocessing"
   ],
   "metadata": {
    "collapsed": false
   },
   "id": "2b04a72c22d55458"
  },
  {
   "cell_type": "code",
   "outputs": [],
   "source": [
    "import warnings\n",
    "warnings.filterwarnings(\"ignore\")\n",
    "import pandas as pd\n",
    "import os"
   ],
   "metadata": {
    "collapsed": false,
    "ExecuteTime": {
     "end_time": "2024-02-18T11:11:11.465193300Z",
     "start_time": "2024-02-18T11:11:11.458513700Z"
    }
   },
   "id": "e1fa1a80359ce479",
   "execution_count": 1
  },
  {
   "cell_type": "code",
   "outputs": [],
   "source": [
    "path_file = os.path.join('..', 'data_preparation', 'data','full_dataset.csv')\n",
    "full_dataset = pd.read_csv(path_file,sep=\",\")\n",
    "\n",
    "# Keeping only the useful columns for the study\n",
    "selected_columns = [\n",
    "    'UHF42',\n",
    "    'Natural Gas Use (kBtu)',\n",
    "    'Total GHG Emissions (Metric Tons CO2e)',\n",
    "    'number of restaurants',\n",
    "    'parks superficy',\n",
    "    'poverty',\n",
    "    'traffic volume',\n",
    "    'Borough',\n",
    "    'PM2.5 | Annual Average 2015',\n",
    "    'PM2.5 | Annual Average 2016',\n",
    "    'PM2.5 | Annual Average 2017',\n",
    "    'O3 | Summer 2015',\n",
    "    'O3 | Summer 2016',\n",
    "    'O3 | Summer 2017',\n",
    "    'PM2.5_AEDV | Estimated annual rate (under age 18) | 2015-2017',\n",
    "    'PM2.5_AEDV | Estimated annual rate (age 18+) | 2015-2017',\n",
    "    'PM2.5_CH | 2015-2017',\n",
    "    'PM2.5_RH | 2015-2017',\n",
    "    'PM2.5_D | 2015-2017',\n",
    "    'O3_AEDV | Estimated annual rate (under age 18) | 2015-2017',\n",
    "    'O3_AEDV | Estimated annual rate (age 18+) | 2015-2017',\n",
    "    'O3_AH | Estimated annual rate (age 18+) | 2015-2017',\n",
    "    'O3_AH | Estimated annual rate (under age 18) | 2015-2017',\n",
    "    'O3_CRD | 2015-2017'\n",
    "]\n",
    "selected_df = full_dataset[selected_columns]"
   ],
   "metadata": {
    "collapsed": false,
    "ExecuteTime": {
     "end_time": "2024-02-18T11:11:11.494371300Z",
     "start_time": "2024-02-18T11:11:11.469196Z"
    }
   },
   "id": "7828686009d237fc",
   "execution_count": 2
  },
  {
   "cell_type": "code",
   "outputs": [],
   "source": [
    "# calculating the O3 mean concentration in years 2015 until 2017\n",
    "selected_df['O3 Particles Concentration'] = ( selected_df['O3 | Summer 2015'] + selected_df['O3 | Summer 2016'] + selected_df['O3 | Summer 2017'] ) / 3\n",
    "selected_df['PM2.5 Particles Concentration'] = ( selected_df['PM2.5 | Annual Average 2015'] + selected_df['PM2.5 | Annual Average 2016'] + selected_df['PM2.5 | Annual Average 2017'] ) / 3\n",
    "\n",
    "# we won't make a distinction between diseases based on age. Thus, we will take the mean of the two variables\n",
    "selected_df['O3 Asthma Emergency Department Visits'] = ( selected_df['O3_AEDV | Estimated annual rate (under age 18) | 2015-2017'] + \n",
    "selected_df['O3_AEDV | Estimated annual rate (age 18+) | 2015-2017'] ) / 2\n",
    "selected_df['O3 Attributable Hospitalizations'] = ( selected_df['O3_AH | Estimated annual rate (age 18+) | 2015-2017'] + selected_df['O3_AH | Estimated annual rate (under age 18) | 2015-2017'] ) / 2\n",
    "selected_df['PM2.5 Asthma Emergency Department Visits'] = (selected_df['PM2.5_AEDV | Estimated annual rate (under age 18) | 2015-2017'] + selected_df['PM2.5_AEDV | Estimated annual rate (age 18+) | 2015-2017']) / 2\n",
    "\n",
    "# for simplification, we will observe hospitalizations in general. Thus, we'll combine cardiovascular hospitalizations and respiratory hospitalizations\n",
    "selected_df['PM2.5 Attributable Hospitalizations'] = ( selected_df['PM2.5_CH | 2015-2017']+ selected_df['PM2.5_RH | 2015-2017'] ) / 2\n",
    "\n",
    "# renaming columns with more intuitive names\n",
    "columns_rename= {\n",
    " 'PM2.5_D | 2015-2017': \"PM2.5 Attributable Deaths\",\n",
    "  'O3_CRD | 2015-2017': \"O3 Attributable Deaths\"\n",
    "}\n",
    "selected_df.rename(columns=columns_rename, inplace=True)\n",
    "\n",
    "# dropping all transformed columns\n",
    "selected_df.drop(columns=['O3 | Summer 2017', \n",
    "                          'O3 | Summer 2016',\n",
    "                          'O3 | Summer 2015', \n",
    "                          'O3_AEDV | Estimated annual rate (under age 18) | 2015-2017',\n",
    "                          'O3_AEDV | Estimated annual rate (age 18+) | 2015-2017',\n",
    "                          'O3_AH | Estimated annual rate (age 18+) | 2015-2017',\n",
    "                          'O3_AH | Estimated annual rate (under age 18) | 2015-2017',\n",
    "                          'PM2.5 | Annual Average 2015', \n",
    "                          'PM2.5 | Annual Average 2016', \n",
    "                          'PM2.5 | Annual Average 2017', \n",
    "                          'PM2.5_AEDV | Estimated annual rate (under age 18) | 2015-2017',\n",
    "                          'PM2.5_AEDV | Estimated annual rate (age 18+) | 2015-2017',\n",
    "                          'PM2.5_CH | 2015-2017',\n",
    "                          'PM2.5_RH | 2015-2017'], axis=1, inplace=True)"
   ],
   "metadata": {
    "collapsed": false,
    "ExecuteTime": {
     "end_time": "2024-02-18T11:11:11.515099800Z",
     "start_time": "2024-02-18T11:11:11.494869400Z"
    }
   },
   "id": "6ed4e67007523a48",
   "execution_count": 3
  },
  {
   "cell_type": "code",
   "outputs": [],
   "source": [
    "selected_df.to_csv('final-dataset.csv')"
   ],
   "metadata": {
    "collapsed": false,
    "ExecuteTime": {
     "end_time": "2024-02-18T11:11:11.527095900Z",
     "start_time": "2024-02-18T11:11:11.515431300Z"
    }
   },
   "id": "69ded7baae325c22",
   "execution_count": 4
  }
 ],
 "metadata": {
  "kernelspec": {
   "display_name": "Python 3",
   "language": "python",
   "name": "python3"
  },
  "language_info": {
   "codemirror_mode": {
    "name": "ipython",
    "version": 2
   },
   "file_extension": ".py",
   "mimetype": "text/x-python",
   "name": "python",
   "nbconvert_exporter": "python",
   "pygments_lexer": "ipython2",
   "version": "2.7.6"
  }
 },
 "nbformat": 4,
 "nbformat_minor": 5
}
