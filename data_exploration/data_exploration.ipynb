{
 "cells": [
  {
   "cell_type": "markdown",
   "source": [
    "# Data preprocessing"
   ],
   "metadata": {
    "collapsed": false
   },
   "id": "c3f8b94b4eb7a5b1"
  },
  {
   "cell_type": "code",
   "execution_count": 58,
   "id": "initial_id",
   "metadata": {
    "collapsed": true,
    "ExecuteTime": {
     "end_time": "2024-02-14T20:56:06.368100200Z",
     "start_time": "2024-02-14T20:56:06.323054300Z"
    }
   },
   "outputs": [],
   "source": [
    "import pandas as pd\n",
    "import warnings\n",
    "warnings.filterwarnings('ignore')\n",
    "\n",
    "import matplotlib.pyplot as plt"
   ]
  },
  {
   "cell_type": "code",
   "outputs": [],
   "source": [
    "full_dataset = pd.read_csv('full_dataset.csv',sep=\",\")"
   ],
   "metadata": {
    "collapsed": false,
    "ExecuteTime": {
     "end_time": "2024-02-14T20:56:06.439853400Z",
     "start_time": "2024-02-14T20:56:06.373208800Z"
    }
   },
   "id": "5909a92563ea7392",
   "execution_count": 59
  },
  {
   "cell_type": "markdown",
   "source": [
    "we will try to explain :\n",
    "\n",
    "Health outcomes related to PM2.5 between 2015 to 2017 :\n",
    "- Asthma Emergency Department Visits\n",
    "- Asthma Hospitalizations\n",
    "- Deaths\n",
    "\n",
    "Health outcomes related to O3 between 2015 to 2017\n",
    "- Asthma Emergency Department Visits\n",
    "- Respiratory and Cardiovascular Hospitalizations\n",
    "- Deaths\n",
    "\n",
    "As well as the concentration of those two particles, to understand which are the factors that impacts them."
   ],
   "metadata": {
    "collapsed": false
   },
   "id": "5bce6cafa52f7592"
  },
  {
   "cell_type": "markdown",
   "source": [
    "we will concentrate on 2015-2017 data, since those are the years for which we have the most complete data."
   ],
   "metadata": {
    "collapsed": false
   },
   "id": "3a0e73393a3c7cac"
  },
  {
   "cell_type": "code",
   "outputs": [],
   "source": [
    "columns = full_dataset.columns\n",
    "for column in columns:\n",
    "    print(column)"
   ],
   "metadata": {
    "collapsed": false,
    "ExecuteTime": {
     "start_time": "2024-02-14T20:56:06.437845100Z"
    }
   },
   "id": "e67348c866afd755",
   "execution_count": null
  },
  {
   "cell_type": "code",
   "outputs": [],
   "source": [
    "selected_columns = [\n",
    "    'UHF42',\n",
    "    'Largest Property Use Type - Gross Floor Area (ft²)',\n",
    "    'Weather Normalized Site Natural Gas Intensity (therms/ft²)',\n",
    "    'Natural Gas Use (kBtu)',\n",
    "    'Weather Normalized Site Natural Gas Use (therms)',\n",
    "    'Total GHG Emissions (Metric Tons CO2e)',\n",
    "    'number of restaurants',\n",
    "    'parks superficy',\n",
    "    'poverty percentage',\n",
    "    'traffic volume',\n",
    "    'Borough',\n",
    "    'PM2.5 | Annual Average 2009',\n",
    "    'PM2.5 | Annual Average 2010',\n",
    "    'PM2.5 | Annual Average 2011',\n",
    "    'PM2.5 | Annual Average 2012',\n",
    "    'PM2.5 | Annual Average 2013',\n",
    "    'PM2.5 | Annual Average 2014',\n",
    "    'PM2.5 | Annual Average 2015',\n",
    "    'PM2.5 | Annual Average 2016',\n",
    "    'PM2.5 | Annual Average 2017',\n",
    "    'O3 | Summer 2009',\n",
    "    'O3 | Summer 2010',\n",
    "    'O3 | Summer 2011',\n",
    "    'O3 | Summer 2012',\n",
    "    'O3 | Summer 2013',\n",
    "    'O3 | Summer 2014',\n",
    "    'O3 | Summer 2015',\n",
    "    'O3 | Summer 2016',\n",
    "    'O3 | Summer 2017',\n",
    "    'PM2.5_AEDV | Estimated annual rate (under age 18) | 2015-2017',\n",
    "    'PM2.5_AEDV | Estimated annual rate (age 18+) | 2015-2017',\n",
    "    'PM2.5_CH | 2015-2017',\n",
    "    'PM2.5_RH | 2015-2017',\n",
    "    'PM2.5_D | 2015-2017',\n",
    "    'O3_AEDV | Estimated annual rate (under age 18) | 2015-2017',\n",
    "    'O3_AEDV | Estimated annual rate (age 18+) | 2015-2017',\n",
    "    'O3_AH | Estimated annual rate (age 18+) | 2015-2017',\n",
    "    'O3_AH | Estimated annual rate (under age 18) | 2015-2017',\n",
    "    'O3_CRD | 2015-2017'\n",
    "]\n",
    "\n",
    "selected_df = full_dataset[selected_columns]"
   ],
   "metadata": {
    "collapsed": false,
    "ExecuteTime": {
     "start_time": "2024-02-14T20:56:06.442847100Z"
    }
   },
   "id": "c94f32a43278afcc",
   "execution_count": null
  },
  {
   "cell_type": "code",
   "outputs": [],
   "source": [
    "selected_df['O3 Particles Concentration'] = ( selected_df['O3 | Summer 2017'] + selected_df['O3 | Summer 2016'] + selected_df['O3 | Summer 2015'] ) / 3"
   ],
   "metadata": {
    "collapsed": false,
    "ExecuteTime": {
     "end_time": "2024-02-14T20:56:06.469603500Z",
     "start_time": "2024-02-14T20:56:06.452327500Z"
    }
   },
   "id": "ace9ca2dbf6d65a5"
  },
  {
   "cell_type": "code",
   "outputs": [],
   "source": [
    "selected_df['O3 Asthma Emergency Department Visits'] = ( selected_df['O3_AEDV | Estimated annual rate (under age 18) | 2015-2017'] + \n",
    "selected_df['O3_AEDV | Estimated annual rate (age 18+) | 2015-2017'] ) / 2"
   ],
   "metadata": {
    "collapsed": false,
    "ExecuteTime": {
     "start_time": "2024-02-14T20:56:06.455317400Z"
    }
   },
   "id": "72680a82a7bf477"
  },
  {
   "cell_type": "code",
   "outputs": [],
   "source": [
    "selected_df['O3 Attributable Hospitalizations'] = ( selected_df['O3_AH | Estimated annual rate (age 18+) | 2015-2017'] + selected_df['O3_AH | Estimated annual rate (under age 18) | 2015-2017'] ) / 2"
   ],
   "metadata": {
    "collapsed": false,
    "ExecuteTime": {
     "start_time": "2024-02-14T20:56:06.458362200Z"
    }
   },
   "id": "70cfd6d79d5c1868"
  },
  {
   "cell_type": "code",
   "outputs": [],
   "source": [
    "selected_df['PM2.5 Particles Concentration'] = ( selected_df['PM2.5 | Annual Average 2015'] + selected_df['PM2.5 | Annual Average 2016'] + selected_df['PM2.5 | Annual Average 2017'] ) / 3"
   ],
   "metadata": {
    "collapsed": false
   },
   "id": "ba9d2e9088926902"
  },
  {
   "cell_type": "code",
   "outputs": [],
   "source": [
    "selected_df['PM2.5 Asthma Emergency Department Visits'] = (selected_df['PM2.5_AEDV | Estimated annual rate (under age 18) | 2015-2017'] + selected_df['PM2.5_AEDV | Estimated annual rate (age 18+) | 2015-2017']) / 2"
   ],
   "metadata": {
    "collapsed": false,
    "ExecuteTime": {
     "end_time": "2024-02-14T20:56:06.553350400Z",
     "start_time": "2024-02-14T20:56:06.515418100Z"
    }
   },
   "id": "2c8da4ab40a88a",
   "execution_count": 62
  },
  {
   "cell_type": "code",
   "outputs": [],
   "source": [
    "selected_df['PM2.5 Attributable Hospitalizations'] = ( selected_df['PM2.5_CH | 2015-2017']+ selected_df['PM2.5_RH | 2015-2017'] ) / 2"
   ],
   "metadata": {
    "collapsed": false,
    "ExecuteTime": {
     "end_time": "2024-02-14T20:56:06.585960200Z",
     "start_time": "2024-02-14T20:56:06.541256Z"
    }
   },
   "id": "b34471f1a5631cc4",
   "execution_count": 63
  },
  {
   "cell_type": "code",
   "outputs": [],
   "source": [
    "D_rename= {\n",
    " 'PM2.5_D | 2015-2017': \"PM2.5 Attributable Deaths\",\n",
    "  'O3_CRD | 2015-2017': \"O3 Attributable Deaths\"\n",
    "}\n",
    "selected_df.rename(columns=D_rename, inplace=True)"
   ],
   "metadata": {
    "collapsed": false,
    "ExecuteTime": {
     "end_time": "2024-02-14T20:56:06.607880600Z",
     "start_time": "2024-02-14T20:56:06.593717400Z"
    }
   },
   "id": "df7dde3ddc47bb87",
   "execution_count": 64
  },
  {
   "cell_type": "code",
   "outputs": [],
   "source": [
    "selected_df.drop(columns=['O3 | Summer 2017', \n",
    "                          'O3 | Summer 2016',\n",
    "                          'O3 | Summer 2015', \n",
    "                          'O3_AEDV | Estimated annual rate (under age 18) | 2015-2017',\n",
    "                          'O3_AEDV | Estimated annual rate (age 18+) | 2015-2017',\n",
    "                          'O3_AH | Estimated annual rate (age 18+) | 2015-2017',\n",
    "                          'O3_AH | Estimated annual rate (under age 18) | 2015-2017',\n",
    "                          'PM2.5 | Annual Average 2015', \n",
    "                          'PM2.5 | Annual Average 2016', \n",
    "                          'PM2.5 | Annual Average 2017', \n",
    "                          'PM2.5_AEDV | Estimated annual rate (under age 18) | 2015-2017',\n",
    "                          'PM2.5_AEDV | Estimated annual rate (age 18+) | 2015-2017',\n",
    "                          'PM2.5_CH | 2015-2017',\n",
    "                          'PM2.5_RH | 2015-2017'], axis=1, inplace=True)"
   ],
   "metadata": {
    "collapsed": false
   },
   "id": "beb474fcec7297d0"
  },
  {
   "cell_type": "code",
   "outputs": [],
   "source": [
    "tg_name= ['PM2.5 Asthma Emergency Department Visits', 'PM2.5 Attributable Hospitalizations', 'PM2.5 Attributable Deaths']\n",
    "tss_arr= df[tg_name].values\n",
    "#tss_arr= tss_arr.mean(axis=1).reshape(-1, 1)\n",
    "\n",
    "silhouette_scores = []\n",
    "\n",
    "# Silhouette scores for k values between 2 and 30\n",
    "for n_clusters in range(2, 21):\n",
    "    kmeans = KMeans(n_clusters=n_clusters, random_state=0)\n",
    "    cluster_labels = kmeans.fit_predict(tss_arr)\n",
    "    silhouette_avg = silhouette_score(tss_arr, cluster_labels)\n",
    "    silhouette_scores.append(silhouette_avg)\n",
    "\n",
    "clear_output()\n",
    "plt.figure(figsize=(12, 8))\n",
    "plt.plot(range(2, 21), silhouette_scores, marker='o')\n",
    "plt.xlabel('Number of clusters', fontsize=15)\n",
    "plt.xticks(range(2, 21))\n",
    "plt.ylabel('Silhouette score', fontsize=15)\n",
    "plt.title(f'Silhouette score analysis for PM2.5 Health Outcomes', fontsize=15)\n",
    "plt.show()"
   ],
   "metadata": {
    "collapsed": false
   },
   "id": "99fcabed67aaeaae"
  }
 ],
 "metadata": {
  "kernelspec": {
   "display_name": "Python 3",
   "language": "python",
   "name": "python3"
  },
  "language_info": {
   "codemirror_mode": {
    "name": "ipython",
    "version": 2
   },
   "file_extension": ".py",
   "mimetype": "text/x-python",
   "name": "python",
   "nbconvert_exporter": "python",
   "pygments_lexer": "ipython2",
   "version": "2.7.6"
  }
 },
 "nbformat": 4,
 "nbformat_minor": 5
}
